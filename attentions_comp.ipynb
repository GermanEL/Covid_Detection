{
 "cells": [
  {
   "cell_type": "code",
   "execution_count": 1,
   "metadata": {},
   "outputs": [],
   "source": [
    "import numpy as np\n",
    "import matplotlib\n",
    "import pandas as pd\n",
    "import os\n",
    "import cv2\n",
    "import matplotlib.pyplot as plt\n",
    "from sklearn.model_selection import train_test_split\n",
    "import tensorflow as tf\n",
    "from sklearn.metrics import confusion_matrix, precision_score, recall_score, f1_score\n",
    "import PIL.Image\n",
    "import tensorflow as tf\n",
    "from tensorflow.keras import layers, models\n",
    "from keras import backend as K\n",
    "import seaborn as sn\n",
    "\n",
    "\n",
    "import matplotlib\n",
    "from tensorflow.keras.models import load_model"
   ]
  },
  {
   "cell_type": "code",
   "execution_count": 2,
   "metadata": {},
   "outputs": [],
   "source": [
    "def load_data_tf(data_path: str, img_shape=(256,256), batch_size: int=64):\n",
    "    train_ds = tf.keras.utils.image_dataset_from_directory(\n",
    "        data_path,\n",
    "        validation_split=0.3,\n",
    "        subset=\"training\",\n",
    "        label_mode='categorical',\n",
    "        seed=123,\n",
    "        image_size=img_shape,\n",
    "        batch_size=batch_size)\n",
    "    val_ds = tf.keras.utils.image_dataset_from_directory(\n",
    "        data_path,\n",
    "        validation_split=0.3,\n",
    "        subset=\"validation\",\n",
    "        label_mode='categorical',\n",
    "        seed=123,\n",
    "        image_size=img_shape,\n",
    "        batch_size=batch_size)\n",
    "    return train_ds, val_ds\n",
    "    "
   ]
  },
  {
   "cell_type": "code",
   "execution_count": 3,
   "metadata": {},
   "outputs": [],
   "source": [
    "# gpus = tf.config.list_physical_devices('GPU')\n",
    "# if gpus:\n",
    "#   try:\n",
    "#     # Currently, memory growth needs to be the same across GPUs\n",
    "#     for gpu in gpus:\n",
    "#       tf.config.experimental.set_memory_growth(gpu, True)\n",
    "#     logical_gpus = tf.config.list_logical_devices('GPU')\n",
    "#     print(len(gpus), \"Physical GPUs,\", len(logical_gpus), \"Logical GPUs\")\n",
    "#   except RuntimeError as e:\n",
    "#     # Memory growth must be set before GPUs have been initialized\n",
    "#     print(e)\n",
    "# else:\n",
    "#     print('No GPUs detected')"
   ]
  },
  {
   "cell_type": "code",
   "execution_count": 4,
   "metadata": {},
   "outputs": [],
   "source": [
    "# load model without attention\n",
    "alex = load_model('model_alex')"
   ]
  },
  {
   "cell_type": "code",
   "execution_count": 5,
   "metadata": {},
   "outputs": [
    {
     "name": "stdout",
     "output_type": "stream",
     "text": [
      "WARNING:tensorflow:From C:\\Users\\xps\\AppData\\Local\\Programs\\Python\\Python39\\lib\\site-packages\\keras\\backend.py:6659: calling map_fn (from tensorflow.python.ops.map_fn) with dtype is deprecated and will be removed in a future version.\n",
      "Instructions for updating:\n",
      "Use fn_output_signature instead\n",
      "WARNING:tensorflow:AutoGraph could not transform <function <lambda>.<locals>.<lambda> at 0x000001DC8EE28CA0> and will run it as-is.\n",
      "Cause: could not parse the source code of <function <lambda>.<locals>.<lambda> at 0x000001DC8EE28CA0>: no matching AST found among candidates:\n",
      "\n",
      "To silence this warning, decorate the function with @tf.autograph.experimental.do_not_convert\n",
      "WARNING: AutoGraph could not transform <function <lambda>.<locals>.<lambda> at 0x000001DC8EE28CA0> and will run it as-is.\n",
      "Cause: could not parse the source code of <function <lambda>.<locals>.<lambda> at 0x000001DC8EE28CA0>: no matching AST found among candidates:\n",
      "\n",
      "To silence this warning, decorate the function with @tf.autograph.experimental.do_not_convert\n",
      "WARNING:tensorflow:AutoGraph could not transform <function <lambda>.<locals>.<lambda> at 0x000001DC8EE28CA0> and will run it as-is.\n",
      "Cause: could not parse the source code of <function <lambda>.<locals>.<lambda> at 0x000001DC8EE28CA0>: no matching AST found among candidates:\n",
      "\n",
      "To silence this warning, decorate the function with @tf.autograph.experimental.do_not_convert\n",
      "WARNING: AutoGraph could not transform <function <lambda>.<locals>.<lambda> at 0x000001DC8EE28CA0> and will run it as-is.\n",
      "Cause: could not parse the source code of <function <lambda>.<locals>.<lambda> at 0x000001DC8EE28CA0>: no matching AST found among candidates:\n",
      "\n",
      "To silence this warning, decorate the function with @tf.autograph.experimental.do_not_convert\n",
      "WARNING:tensorflow:AutoGraph could not transform <function <lambda>.<locals>.<lambda> at 0x000001DC8EE28CA0> and will run it as-is.\n",
      "Cause: could not parse the source code of <function <lambda>.<locals>.<lambda> at 0x000001DC8EE28CA0>: no matching AST found among candidates:\n",
      "\n",
      "To silence this warning, decorate the function with @tf.autograph.experimental.do_not_convert\n",
      "WARNING: AutoGraph could not transform <function <lambda>.<locals>.<lambda> at 0x000001DC8EE28CA0> and will run it as-is.\n",
      "Cause: could not parse the source code of <function <lambda>.<locals>.<lambda> at 0x000001DC8EE28CA0>: no matching AST found among candidates:\n",
      "\n",
      "To silence this warning, decorate the function with @tf.autograph.experimental.do_not_convert\n"
     ]
    }
   ],
   "source": [
    "# load model with S=2,4,5\n",
    "a123 = load_model('model_alex_att')"
   ]
  },
  {
   "cell_type": "code",
   "execution_count": 6,
   "metadata": {},
   "outputs": [
    {
     "name": "stdout",
     "output_type": "stream",
     "text": [
      "WARNING:tensorflow:AutoGraph could not transform <function <lambda>.<locals>.<lambda> at 0x000001DC8EBC0550> and will run it as-is.\n",
      "Cause: could not parse the source code of <function <lambda>.<locals>.<lambda> at 0x000001DC8EBC0550>: no matching AST found among candidates:\n",
      "\n",
      "To silence this warning, decorate the function with @tf.autograph.experimental.do_not_convert\n",
      "WARNING: AutoGraph could not transform <function <lambda>.<locals>.<lambda> at 0x000001DC8EBC0550> and will run it as-is.\n",
      "Cause: could not parse the source code of <function <lambda>.<locals>.<lambda> at 0x000001DC8EBC0550>: no matching AST found among candidates:\n",
      "\n",
      "To silence this warning, decorate the function with @tf.autograph.experimental.do_not_convert\n"
     ]
    }
   ],
   "source": [
    "# load model with S=3\n",
    "a2 = load_model('model_alex_att_l2_test')"
   ]
  },
  {
   "cell_type": "code",
   "execution_count": 7,
   "metadata": {},
   "outputs": [
    {
     "name": "stdout",
     "output_type": "stream",
     "text": [
      "WARNING:tensorflow:AutoGraph could not transform <function <lambda>.<locals>.<lambda> at 0x000001DC96F504C0> and will run it as-is.\n",
      "Cause: could not parse the source code of <function <lambda>.<locals>.<lambda> at 0x000001DC96F504C0>: no matching AST found among candidates:\n",
      "\n",
      "To silence this warning, decorate the function with @tf.autograph.experimental.do_not_convert\n",
      "WARNING: AutoGraph could not transform <function <lambda>.<locals>.<lambda> at 0x000001DC96F504C0> and will run it as-is.\n",
      "Cause: could not parse the source code of <function <lambda>.<locals>.<lambda> at 0x000001DC96F504C0>: no matching AST found among candidates:\n",
      "\n",
      "To silence this warning, decorate the function with @tf.autograph.experimental.do_not_convert\n",
      "WARNING:tensorflow:AutoGraph could not transform <function <lambda>.<locals>.<lambda> at 0x000001DC96F504C0> and will run it as-is.\n",
      "Cause: could not parse the source code of <function <lambda>.<locals>.<lambda> at 0x000001DC96F504C0>: no matching AST found among candidates:\n",
      "\n",
      "To silence this warning, decorate the function with @tf.autograph.experimental.do_not_convert\n",
      "WARNING: AutoGraph could not transform <function <lambda>.<locals>.<lambda> at 0x000001DC96F504C0> and will run it as-is.\n",
      "Cause: could not parse the source code of <function <lambda>.<locals>.<lambda> at 0x000001DC96F504C0>: no matching AST found among candidates:\n",
      "\n",
      "To silence this warning, decorate the function with @tf.autograph.experimental.do_not_convert\n"
     ]
    }
   ],
   "source": [
    "# load model with S=2,4\n",
    "a23 = load_model('model_alex_att_l23')"
   ]
  },
  {
   "cell_type": "code",
   "execution_count": 8,
   "metadata": {},
   "outputs": [
    {
     "name": "stdout",
     "output_type": "stream",
     "text": [
      "Model: \"model\"\n",
      "__________________________________________________________________________________________________\n",
      " Layer (type)                   Output Shape         Param #     Connected to                     \n",
      "==================================================================================================\n",
      " input_1 (InputLayer)           [(None, 256, 256, 3  0           []                               \n",
      "                                )]                                                                \n",
      "                                                                                                  \n",
      " resizing (Resizing)            (None, 224, 224, 3)  0           ['input_1[0][0]']                \n",
      "                                                                                                  \n",
      " rescaling (Rescaling)          (None, 224, 224, 3)  0           ['resizing[0][0]']               \n",
      "                                                                                                  \n",
      " conv2d (Conv2D)                (None, 54, 54, 96)   34944       ['rescaling[0][0]']              \n",
      "                                                                                                  \n",
      " batch_normalization (BatchNorm  (None, 54, 54, 96)  384         ['conv2d[0][0]']                 \n",
      " alization)                                                                                       \n",
      "                                                                                                  \n",
      " max_pooling2d (MaxPooling2D)   (None, 27, 27, 96)   0           ['batch_normalization[0][0]']    \n",
      "                                                                                                  \n",
      " conv2d_1 (Conv2D)              (None, 27, 27, 256)  2973952     ['max_pooling2d[0][0]']          \n",
      "                                                                                                  \n",
      " batch_normalization_1 (BatchNo  (None, 27, 27, 256)  1024       ['conv2d_1[0][0]']               \n",
      " rmalization)                                                                                     \n",
      "                                                                                                  \n",
      " conv2d_2 (Conv2D)              (None, 27, 27, 384)  885120      ['batch_normalization_1[0][0]']  \n",
      "                                                                                                  \n",
      " batch_normalization_2 (BatchNo  (None, 27, 27, 384)  1536       ['conv2d_2[0][0]']               \n",
      " rmalization)                                                                                     \n",
      "                                                                                                  \n",
      " conv2d_3 (Conv2D)              (None, 27, 27, 384)  1327488     ['batch_normalization_2[0][0]']  \n",
      "                                                                                                  \n",
      " batch_normalization_3 (BatchNo  (None, 27, 27, 384)  1536       ['conv2d_3[0][0]']               \n",
      " rmalization)                                                                                     \n",
      "                                                                                                  \n",
      " conv2d_4 (Conv2D)              (None, 27, 27, 256)  884992      ['batch_normalization_3[0][0]']  \n",
      "                                                                                                  \n",
      " batch_normalization_4 (BatchNo  (None, 27, 27, 256)  1024       ['conv2d_4[0][0]']               \n",
      " rmalization)                                                                                     \n",
      "                                                                                                  \n",
      " max_pooling2d_1 (MaxPooling2D)  (None, 13, 13, 256)  0          ['batch_normalization_4[0][0]']  \n",
      "                                                                                                  \n",
      " flatten (Flatten)              (None, 43264)        0           ['max_pooling2d_1[0][0]']        \n",
      "                                                                                                  \n",
      " dense (Dense)                  (None, 256)          11075840    ['flatten[0][0]']                \n",
      "                                                                                                  \n",
      " conn_1 (Dense)                 (None, 27, 27, 256)  65792       ['batch_normalization_1[0][0]']  \n",
      "                                                                                                  \n",
      " dropout (Dropout)              (None, 256)          0           ['dense[0][0]']                  \n",
      "                                                                                                  \n",
      " conn_2 (Dense)                 (None, 27, 27, 256)  98560       ['batch_normalization_3[0][0]']  \n",
      "                                                                                                  \n",
      " conn_3 (Dense)                 (None, 13, 13, 256)  65792       ['max_pooling2d_1[0][0]']        \n",
      "                                                                                                  \n",
      " cdp1 (Lambda)                  (None, 27, 27)       0           ['conn_1[0][0]',                 \n",
      "                                                                  'dropout[0][0]']                \n",
      "                                                                                                  \n",
      " cdp2 (Lambda)                  (None, 27, 27)       0           ['conn_2[0][0]',                 \n",
      "                                                                  'dropout[0][0]']                \n",
      "                                                                                                  \n",
      " cdp3 (Lambda)                  (None, 13, 13)       0           ['conn_3[0][0]',                 \n",
      "                                                                  'dropout[0][0]']                \n",
      "                                                                                                  \n",
      " flatten_1 (Flatten)            (None, 729)          0           ['cdp1[0][0]']                   \n",
      "                                                                                                  \n",
      " flatten_2 (Flatten)            (None, 729)          0           ['cdp2[0][0]']                   \n",
      "                                                                                                  \n",
      " flatten_3 (Flatten)            (None, 169)          0           ['cdp3[0][0]']                   \n",
      "                                                                                                  \n",
      " softmax (Softmax)              (None, 729)          0           ['flatten_1[0][0]']              \n",
      "                                                                                                  \n",
      " reshape (Reshape)              (None, 729, 256)     0           ['conn_1[0][0]']                 \n",
      "                                                                                                  \n",
      " softmax_1 (Softmax)            (None, 729)          0           ['flatten_2[0][0]']              \n",
      "                                                                                                  \n",
      " reshape_1 (Reshape)            (None, 729, 256)     0           ['conn_2[0][0]']                 \n",
      "                                                                                                  \n",
      " softmax_2 (Softmax)            (None, 169)          0           ['flatten_3[0][0]']              \n",
      "                                                                                                  \n",
      " reshape_2 (Reshape)            (None, 169, 256)     0           ['conn_3[0][0]']                 \n",
      "                                                                                                  \n",
      " ga1 (Lambda)                   (None, 256)          0           ['softmax[0][0]',                \n",
      "                                                                  'reshape[0][0]']                \n",
      "                                                                                                  \n",
      " ga2 (Lambda)                   (None, 256)          0           ['softmax_1[0][0]',              \n",
      "                                                                  'reshape_1[0][0]']              \n",
      "                                                                                                  \n",
      " ga3 (Lambda)                   (None, 256)          0           ['softmax_2[0][0]',              \n",
      "                                                                  'reshape_2[0][0]']              \n",
      "                                                                                                  \n",
      " concatenate (Concatenate)      (None, 768)          0           ['ga1[0][0]',                    \n",
      "                                                                  'ga2[0][0]',                    \n",
      "                                                                  'ga3[0][0]']                    \n",
      "                                                                                                  \n",
      " dense_1 (Dense)                (None, 3)            2307        ['concatenate[0][0]']            \n",
      "                                                                                                  \n",
      "==================================================================================================\n",
      "Total params: 17,420,291\n",
      "Trainable params: 17,417,539\n",
      "Non-trainable params: 2,752\n",
      "__________________________________________________________________________________________________\n"
     ]
    }
   ],
   "source": [
    "a123.summary()"
   ]
  },
  {
   "cell_type": "code",
   "execution_count": 9,
   "metadata": {},
   "outputs": [],
   "source": [
    "tf.autograph.set_verbosity(0)"
   ]
  },
  {
   "cell_type": "code",
   "execution_count": 10,
   "metadata": {},
   "outputs": [
    {
     "name": "stdout",
     "output_type": "stream",
     "text": [
      "Found 4575 files belonging to 3 classes.\n",
      "Using 3203 files for training.\n",
      "Found 4575 files belonging to 3 classes.\n",
      "Using 1372 files for validation.\n"
     ]
    }
   ],
   "source": [
    "train_dataset, test_val_ds = load_data_tf('cov_data', img_shape = (256,256), batch_size=5)"
   ]
  },
  {
   "cell_type": "code",
   "execution_count": 11,
   "metadata": {},
   "outputs": [],
   "source": [
    "val_dataset = test_val_ds.shuffle(4).take(86)\n",
    "test_dataset = test_val_ds.shuffle(4).skip(86)"
   ]
  },
  {
   "cell_type": "code",
   "execution_count": 12,
   "metadata": {},
   "outputs": [
    {
     "name": "stdout",
     "output_type": "stream",
     "text": [
      "641, 86, 189\n"
     ]
    }
   ],
   "source": [
    "print(f\"{train_dataset.cardinality().numpy()}, {val_dataset.cardinality().numpy()}, {test_dataset.cardinality().numpy()}\")"
   ]
  },
  {
   "cell_type": "code",
   "execution_count": 13,
   "metadata": {},
   "outputs": [
    {
     "name": "stdout",
     "output_type": "stream",
     "text": [
      "189/189 [==============================] - 25s 121ms/step - loss: 0.3010 - accuracy: 0.9321\n"
     ]
    }
   ],
   "source": [
    "acc = alex.evaluate(test_dataset)"
   ]
  },
  {
   "cell_type": "code",
   "execution_count": 14,
   "metadata": {},
   "outputs": [
    {
     "name": "stdout",
     "output_type": "stream",
     "text": [
      "WARNING:tensorflow:AutoGraph could not transform <function <lambda>.<locals>.<lambda> at 0x000001DC96C57670> and will run it as-is.\n",
      "Cause: could not parse the source code of <function <lambda>.<locals>.<lambda> at 0x000001DC96C57670>: no matching AST found among candidates:\n",
      "\n",
      "To silence this warning, decorate the function with @tf.autograph.experimental.do_not_convert\n",
      "WARNING:tensorflow:AutoGraph could not transform <function <lambda>.<locals>.<lambda> at 0x000001DC96C57670> and will run it as-is.\n",
      "Cause: could not parse the source code of <function <lambda>.<locals>.<lambda> at 0x000001DC96C57670>: no matching AST found among candidates:\n",
      "\n",
      "To silence this warning, decorate the function with @tf.autograph.experimental.do_not_convert\n",
      "WARNING:tensorflow:AutoGraph could not transform <function <lambda>.<locals>.<lambda> at 0x000001DC96C57670> and will run it as-is.\n",
      "Cause: could not parse the source code of <function <lambda>.<locals>.<lambda> at 0x000001DC96C57670>: no matching AST found among candidates:\n",
      "\n",
      "To silence this warning, decorate the function with @tf.autograph.experimental.do_not_convert\n",
      "189/189 [==============================] - 33s 165ms/step - loss: 0.3022 - accuracy: 0.9225\n"
     ]
    }
   ],
   "source": [
    "acc123 = a123.evaluate(test_dataset)"
   ]
  },
  {
   "cell_type": "code",
   "execution_count": 15,
   "metadata": {},
   "outputs": [
    {
     "name": "stdout",
     "output_type": "stream",
     "text": [
      "WARNING:tensorflow:AutoGraph could not transform <function <lambda>.<locals>.<lambda> at 0x000001DC970FA280> and will run it as-is.\n",
      "Cause: could not parse the source code of <function <lambda>.<locals>.<lambda> at 0x000001DC970FA280>: no matching AST found among candidates:\n",
      "\n",
      "To silence this warning, decorate the function with @tf.autograph.experimental.do_not_convert\n",
      "189/189 [==============================] - 25s 120ms/step - loss: 0.3203 - accuracy: 0.9098\n"
     ]
    }
   ],
   "source": [
    "acc2 = a2.evaluate(test_dataset)"
   ]
  },
  {
   "cell_type": "code",
   "execution_count": 16,
   "metadata": {},
   "outputs": [
    {
     "name": "stdout",
     "output_type": "stream",
     "text": [
      "WARNING:tensorflow:AutoGraph could not transform <function <lambda>.<locals>.<lambda> at 0x000001DC9717D940> and will run it as-is.\n",
      "Cause: could not parse the source code of <function <lambda>.<locals>.<lambda> at 0x000001DC9717D940>: no matching AST found among candidates:\n",
      "\n",
      "To silence this warning, decorate the function with @tf.autograph.experimental.do_not_convert\n",
      "WARNING:tensorflow:AutoGraph could not transform <function <lambda>.<locals>.<lambda> at 0x000001DC9717D820> and will run it as-is.\n",
      "Cause: could not parse the source code of <function <lambda>.<locals>.<lambda> at 0x000001DC9717D820>: no matching AST found among candidates:\n",
      "\n",
      "To silence this warning, decorate the function with @tf.autograph.experimental.do_not_convert\n",
      "189/189 [==============================] - 25s 123ms/step - loss: 0.3313 - accuracy: 0.8938\n"
     ]
    }
   ],
   "source": [
    "acc23 = a23.evaluate(test_dataset)"
   ]
  },
  {
   "cell_type": "code",
   "execution_count": 17,
   "metadata": {},
   "outputs": [],
   "source": [
    "labels = []\n",
    "images = []\n",
    "for image, label in test_dataset.unbatch():\n",
    "    images.append(image)\n",
    "    labels.append(label)"
   ]
  },
  {
   "cell_type": "code",
   "execution_count": 18,
   "metadata": {},
   "outputs": [],
   "source": [
    "images = np.array(images)\n",
    "labels = np.array(labels)"
   ]
  },
  {
   "cell_type": "code",
   "execution_count": 19,
   "metadata": {},
   "outputs": [],
   "source": [
    "pred = alex.predict(images)"
   ]
  },
  {
   "cell_type": "code",
   "execution_count": 20,
   "metadata": {},
   "outputs": [
    {
     "name": "stdout",
     "output_type": "stream",
     "text": [
      "WARNING:tensorflow:AutoGraph could not transform <function <lambda>.<locals>.<lambda> at 0x000001DC96D3D430> and will run it as-is.\n",
      "Cause: could not parse the source code of <function <lambda>.<locals>.<lambda> at 0x000001DC96D3D430>: no matching AST found among candidates:\n",
      "\n",
      "To silence this warning, decorate the function with @tf.autograph.experimental.do_not_convert\n",
      "WARNING:tensorflow:AutoGraph could not transform <function <lambda>.<locals>.<lambda> at 0x000001DC96D3D430> and will run it as-is.\n",
      "Cause: could not parse the source code of <function <lambda>.<locals>.<lambda> at 0x000001DC96D3D430>: no matching AST found among candidates:\n",
      "\n",
      "To silence this warning, decorate the function with @tf.autograph.experimental.do_not_convert\n",
      "WARNING:tensorflow:AutoGraph could not transform <function <lambda>.<locals>.<lambda> at 0x000001DC96D3D430> and will run it as-is.\n",
      "Cause: could not parse the source code of <function <lambda>.<locals>.<lambda> at 0x000001DC96D3D430>: no matching AST found among candidates:\n",
      "\n",
      "To silence this warning, decorate the function with @tf.autograph.experimental.do_not_convert\n"
     ]
    }
   ],
   "source": [
    "a123_pred = a123.predict(images)"
   ]
  },
  {
   "cell_type": "code",
   "execution_count": 21,
   "metadata": {},
   "outputs": [
    {
     "name": "stdout",
     "output_type": "stream",
     "text": [
      "WARNING:tensorflow:AutoGraph could not transform <function <lambda>.<locals>.<lambda> at 0x000001DC972BC550> and will run it as-is.\n",
      "Cause: could not parse the source code of <function <lambda>.<locals>.<lambda> at 0x000001DC972BC550>: no matching AST found among candidates:\n",
      "\n",
      "To silence this warning, decorate the function with @tf.autograph.experimental.do_not_convert\n"
     ]
    }
   ],
   "source": [
    "a2_pred = a2.predict(images)"
   ]
  },
  {
   "cell_type": "code",
   "execution_count": 22,
   "metadata": {},
   "outputs": [
    {
     "name": "stdout",
     "output_type": "stream",
     "text": [
      "WARNING:tensorflow:AutoGraph could not transform <function <lambda>.<locals>.<lambda> at 0x000001DC972BCCA0> and will run it as-is.\n",
      "Cause: could not parse the source code of <function <lambda>.<locals>.<lambda> at 0x000001DC972BCCA0>: no matching AST found among candidates:\n",
      "\n",
      "To silence this warning, decorate the function with @tf.autograph.experimental.do_not_convert\n",
      "WARNING:tensorflow:AutoGraph could not transform <function <lambda>.<locals>.<lambda> at 0x000001DC972BCCA0> and will run it as-is.\n",
      "Cause: could not parse the source code of <function <lambda>.<locals>.<lambda> at 0x000001DC972BCCA0>: no matching AST found among candidates:\n",
      "\n",
      "To silence this warning, decorate the function with @tf.autograph.experimental.do_not_convert\n"
     ]
    }
   ],
   "source": [
    "a23_pred = a23.predict(images)"
   ]
  },
  {
   "cell_type": "code",
   "execution_count": 23,
   "metadata": {},
   "outputs": [],
   "source": [
    "labels = np.argmax(labels,axis=-1)\n",
    "a123_predictions=np.argmax(a123_pred,axis=-1)\n",
    "a23_predictions=np.argmax(a23_pred,axis=-1)\n",
    "a2_predictions=np.argmax(a2_pred,axis=-1)"
   ]
  },
  {
   "cell_type": "code",
   "execution_count": 24,
   "metadata": {},
   "outputs": [],
   "source": [
    "alex_predictions = np.argmax(pred,axis=-1)"
   ]
  },
  {
   "cell_type": "code",
   "execution_count": 25,
   "metadata": {},
   "outputs": [],
   "source": [
    "def eval_model(y_true, y_pred, labels):\n",
    "    pr = precision_score(y_true=y_true, y_pred=y_pred, labels=labels,average=None)[0]\n",
    "    rc = recall_score(y_true=y_true, y_pred=y_pred, labels=labels,average=None)[0]\n",
    "    f1 = f1_score(y_true=y_true, y_pred=y_pred, labels=labels,average=None)[0]\n",
    "    return pr, rc, f1"
   ]
  },
  {
   "cell_type": "code",
   "execution_count": 26,
   "metadata": {},
   "outputs": [],
   "source": [
    "pr123, rc123, f123 = eval_model(y_true=labels, y_pred=a123_predictions,labels=[1])"
   ]
  },
  {
   "cell_type": "code",
   "execution_count": 27,
   "metadata": {},
   "outputs": [],
   "source": [
    "pr23, rc23, f23 = eval_model(y_true=labels, y_pred=a23_predictions,labels=[1])"
   ]
  },
  {
   "cell_type": "code",
   "execution_count": 28,
   "metadata": {},
   "outputs": [],
   "source": [
    "pr2, rc2, f2= eval_model(y_true=labels, y_pred=a2_predictions,labels=[1])"
   ]
  },
  {
   "cell_type": "code",
   "execution_count": 29,
   "metadata": {},
   "outputs": [],
   "source": [
    "pr, rc, f1 = eval_model(y_true=labels, y_pred=alex_predictions,labels=[1])"
   ]
  },
  {
   "cell_type": "code",
   "execution_count": 30,
   "metadata": {},
   "outputs": [],
   "source": [
    "models = ['AlexNet\\nNo attention', 'AlexNet+Attention\\nS={2,4,5}', 'AlexNet+Attention\\nS={2,4}', 'AlexNet+Attention\\nS={3}']"
   ]
  },
  {
   "cell_type": "code",
   "execution_count": 31,
   "metadata": {},
   "outputs": [],
   "source": [
    "accuracy_array = [acc[1], acc123[1], acc23[1], acc2[1]]\n",
    "recall_array = [rc, rc123, rc23, rc2]\n",
    "precision_array = [pr, pr123, pr23, pr2]\n",
    "f1_array = [f1, f123, f23, f2]"
   ]
  },
  {
   "cell_type": "code",
   "execution_count": 32,
   "metadata": {},
   "outputs": [
    {
     "data": {
      "image/png": "[encoded data removed]",
      "text/plain": [
       "<Figure size 936x432 with 1 Axes>"
      ]
     },
     "metadata": {
      "needs_background": "light"
     },
     "output_type": "display_data"
    }
   ],
   "source": [
    "matplotlib.rcParams.update({'font.size': 12})\n",
    "x = np.arange(4)\n",
    "width = 0.22\n",
    "fig, ax = plt.subplots(figsize=(13,6))\n",
    "rects1 = ax.bar(x - width, np.round(accuracy_array,2), width, color = 'green', label='Accuracy')\n",
    "rects2 = ax.bar(x, np.round(recall_array,2), width, color = 'orange', label='Recall')\n",
    "rects3 = ax.bar(x + width, np.round(precision_array, 2), width, color = 'purple', label='Precision')\n",
    "rects4 = ax.bar(x + 2*width, np.round(f1_array, 2), width, color = 'yellow', label='F1')\n",
    "for v in rects1:\n",
    "    height = v.get_height()\n",
    "    ax.annotate('{}'.format(height),\n",
    "                xy=(v.get_x() + v.get_width() / 2, height),\n",
    "                xytext=(0, 3),\n",
    "                textcoords=\"offset points\",\n",
    "                ha='center', va='bottom', fontsize = 10)\n",
    "for v in rects2:\n",
    "    height = v.get_height()\n",
    "    ax.annotate('{}'.format(height),\n",
    "                xy=(v.get_x() + v.get_width() / 2, height),\n",
    "                xytext=(0, 3),\n",
    "                textcoords=\"offset points\",\n",
    "                ha='center', va='bottom', fontsize = 10)    \n",
    "for v in rects3:\n",
    "    height = v.get_height()\n",
    "    ax.annotate('{}'.format(height),\n",
    "                xy=(v.get_x() + v.get_width() / 2, height),\n",
    "                xytext=(0, 3),\n",
    "                textcoords=\"offset points\",\n",
    "                ha='center', va='bottom', fontsize = 10)\n",
    "for v in rects4:\n",
    "    height = v.get_height()\n",
    "    ax.annotate('{}'.format(height),\n",
    "                xy=(v.get_x() + v.get_width() / 2, height),\n",
    "                xytext=(0, 3),\n",
    "                textcoords=\"offset points\",\n",
    "                ha='center', va='bottom', fontsize = 10)\n",
    "#ax.set_title('')\n",
    "ax.set_ylabel('Scores')\n",
    "ax.grid(True)\n",
    "plt.yticks(np.arange(0, 1.1, 0.1)) \n",
    "plt.xticks(x + width/2, models)\n",
    "plt.legend(['Accuracy', 'Recall', 'Precision', 'F1'], loc ='lower right')\n",
    "plt.show()"
   ]
  }
 ],
 "metadata": {
  "interpreter": {
   "hash": "edb785b520f3628718c6f63b0193778fc09e531943076d4d93ac8ed296d34b79"
  },
  "kernelspec": {
   "display_name": "Python 3.9.6 64-bit",
   "language": "python",
   "name": "python3"
  },
  "language_info": {
   "codemirror_mode": {
    "name": "ipython",
    "version": 3
   },
   "file_extension": ".py",
   "mimetype": "text/x-python",
   "name": "python",
   "nbconvert_exporter": "python",
   "pygments_lexer": "ipython3",
   "version": "3.9.6"
  },
  "orig_nbformat": 4
 },
 "nbformat": 4,
 "nbformat_minor": 2
}
