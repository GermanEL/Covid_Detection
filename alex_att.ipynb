{
 "cells": [
  {
   "cell_type": "code",
   "execution_count": 42,
   "metadata": {},
   "outputs": [],
   "source": [
    "import numpy as np\n",
    "import matplotlib\n",
    "import pandas as pd\n",
    "import os\n",
    "import cv2\n",
    "import matplotlib.pyplot as plt\n",
    "from sklearn.model_selection import train_test_split\n",
    "import tensorflow as tf\n",
    "from sklearn.metrics import confusion_matrix, precision_score, recall_score, f1_score\n",
    "import PIL.Image\n",
    "import tensorflow as tf\n",
    "from tensorflow.keras import layers, models\n",
    "from keras import backend as K\n",
    "import seaborn as sn\n",
    "import matplotlib\n",
    "from tensorflow.keras.models import load_model"
   ]
  },
  {
   "cell_type": "code",
   "execution_count": 43,
   "metadata": {},
   "outputs": [
    {
     "name": "stdout",
     "output_type": "stream",
     "text": [
      "1 Physical GPUs, 1 Logical GPUs\n"
     ]
    }
   ],
   "source": [
    "gpus = tf.config.list_physical_devices('GPU')\n",
    "if gpus:\n",
    "  try:\n",
    "    # Currently, memory growth needs to be the same across GPUs\n",
    "    for gpu in gpus:\n",
    "      tf.config.experimental.set_memory_growth(gpu, True)\n",
    "    logical_gpus = tf.config.list_logical_devices('GPU')\n",
    "    print(len(gpus), \"Physical GPUs,\", len(logical_gpus), \"Logical GPUs\")\n",
    "  except RuntimeError as e:\n",
    "    # Memory growth must be set before GPUs have been initialized\n",
    "    print(e)\n",
    "else:\n",
    "    print('No GPUs detected')"
   ]
  },
  {
   "cell_type": "code",
   "execution_count": 44,
   "metadata": {},
   "outputs": [],
   "source": [
    "tf.autograph.set_verbosity(0)"
   ]
  },
  {
   "cell_type": "code",
   "execution_count": 45,
   "metadata": {},
   "outputs": [],
   "source": [
    "def load_data_tf(data_path: str, img_shape=(256,256), batch_size: int=64):\n",
    "    train_ds = tf.keras.utils.image_dataset_from_directory(\n",
    "        data_path,\n",
    "        validation_split=0.3,\n",
    "        subset=\"training\",\n",
    "        label_mode='categorical',\n",
    "        seed=123,\n",
    "        image_size=img_shape,\n",
    "        batch_size=batch_size)\n",
    "    val_ds = tf.keras.utils.image_dataset_from_directory(\n",
    "        data_path,\n",
    "        validation_split=0.3,\n",
    "        subset=\"validation\",\n",
    "        label_mode='categorical',\n",
    "        seed=123,\n",
    "        image_size=img_shape,\n",
    "        batch_size=batch_size)\n",
    "    return train_ds, val_ds"
   ]
  },
  {
   "cell_type": "code",
   "execution_count": 46,
   "metadata": {},
   "outputs": [
    {
     "name": "stdout",
     "output_type": "stream",
     "text": [
      "Found 4575 files belonging to 3 classes.\n",
      "Using 3203 files for training.\n",
      "Found 4575 files belonging to 3 classes.\n",
      "Using 1372 files for validation.\n"
     ]
    }
   ],
   "source": [
    "train_dataset, test_val_ds = load_data_tf('cov_data', img_shape = (256,256), batch_size=8)"
   ]
  },
  {
   "cell_type": "code",
   "execution_count": 47,
   "metadata": {},
   "outputs": [],
   "source": [
    "val_dataset = test_val_ds.take(86)\n",
    "test_dataset = test_val_ds.skip(86)"
   ]
  },
  {
   "cell_type": "code",
   "execution_count": 48,
   "metadata": {},
   "outputs": [
    {
     "name": "stdout",
     "output_type": "stream",
     "text": [
      "401, 86, 86\n"
     ]
    }
   ],
   "source": [
    "print(f\"{train_dataset.cardinality().numpy()}, {val_dataset.cardinality().numpy()}, {test_dataset.cardinality().numpy()}\")"
   ]
  },
  {
   "cell_type": "code",
   "execution_count": 55,
   "metadata": {},
   "outputs": [],
   "source": [
    "model_alex = tf.keras.models.Sequential([\n",
    "  layers.Input(shape=(256,256,3)),\n",
    "  layers.Resizing(height=224, width=224),\n",
    "  layers.Rescaling(1./255),\n",
    "    # 1st conv\n",
    "  tf.keras.layers.Conv2D(96, (11,11),strides=(4,4), input_shape=(224, 224, 3)),\n",
    "  tf.keras.layers.BatchNormalization(),\n",
    "  tf.keras.layers.Activation('relu'),\n",
    "  tf.keras.layers.MaxPooling2D(2, strides=(2,2)),\n",
    "    # 2nd conv\n",
    "  tf.keras.layers.Conv2D(256, (5,5),strides=(1,1),padding=\"same\"),\n",
    "  tf.keras.layers.BatchNormalization(),\n",
    "  tf.keras.layers.Activation('relu'),\n",
    "     # 3rd conv\n",
    "  tf.keras.layers.Conv2D(384, (3,3),strides=(1,1),padding=\"same\"),\n",
    "  tf.keras.layers.BatchNormalization(),\n",
    "  tf.keras.layers.Activation('relu'),\n",
    "    # 4th conv\n",
    "  tf.keras.layers.Conv2D(384, (3,3),strides=(1,1),padding=\"same\"),\n",
    "  tf.keras.layers.BatchNormalization(),\n",
    "  tf.keras.layers.Activation('relu'),\n",
    "    # 5th Conv\n",
    "  tf.keras.layers.Conv2D(256, (3, 3), strides=(1, 1),padding=\"same\"),\n",
    "  tf.keras.layers.BatchNormalization(),\n",
    "  tf.keras.layers.Activation('relu'),\n",
    "  tf.keras.layers.MaxPooling2D(2, strides=(5, 5)),\n",
    "  # To Flatten layer\n",
    "  tf.keras.layers.Flatten(),\n",
    "  # To FC layer 1\n",
    "  tf.keras.layers.Dense(256, activation='relu'),\n",
    "  tf.keras.layers.Dropout(0.5),\n",
    "  #To FC layer 2\n",
    "  tf.keras.layers.Dense(256, activation='relu'),\n",
    "  tf.keras.layers.Dropout(0.5),\n",
    "  tf.keras.layers.Dense(3, activation='softmax')\n",
    "])"
   ]
  },
  {
   "cell_type": "code",
   "execution_count": 56,
   "metadata": {},
   "outputs": [
    {
     "name": "stdout",
     "output_type": "stream",
     "text": [
      "Model: \"sequential\"\n",
      "_________________________________________________________________\n",
      " Layer (type)                Output Shape              Param #   \n",
      "=================================================================\n",
      " resizing_8 (Resizing)       (None, 224, 224, 3)       0         \n",
      "                                                                 \n",
      " rescaling_8 (Rescaling)     (None, 224, 224, 3)       0         \n",
      "                                                                 \n",
      " conv2d_40 (Conv2D)          (None, 54, 54, 96)        34944     \n",
      "                                                                 \n",
      " batch_normalization_40 (Bat  (None, 54, 54, 96)       384       \n",
      " chNormalization)                                                \n",
      "                                                                 \n",
      " activation_40 (Activation)  (None, 54, 54, 96)        0         \n",
      "                                                                 \n",
      " max_pooling2d_16 (MaxPoolin  (None, 27, 27, 96)       0         \n",
      " g2D)                                                            \n",
      "                                                                 \n",
      " conv2d_41 (Conv2D)          (None, 27, 27, 256)       614656    \n",
      "                                                                 \n",
      " batch_normalization_41 (Bat  (None, 27, 27, 256)      1024      \n",
      " chNormalization)                                                \n",
      "                                                                 \n",
      " activation_41 (Activation)  (None, 27, 27, 256)       0         \n",
      "                                                                 \n",
      " conv2d_42 (Conv2D)          (None, 27, 27, 384)       885120    \n",
      "                                                                 \n",
      " batch_normalization_42 (Bat  (None, 27, 27, 384)      1536      \n",
      " chNormalization)                                                \n",
      "                                                                 \n",
      " activation_42 (Activation)  (None, 27, 27, 384)       0         \n",
      "                                                                 \n",
      " conv2d_43 (Conv2D)          (None, 27, 27, 384)       1327488   \n",
      "                                                                 \n",
      " batch_normalization_43 (Bat  (None, 27, 27, 384)      1536      \n",
      " chNormalization)                                                \n",
      "                                                                 \n",
      " activation_43 (Activation)  (None, 27, 27, 384)       0         \n",
      "                                                                 \n",
      " conv2d_44 (Conv2D)          (None, 27, 27, 256)       884992    \n",
      "                                                                 \n",
      " batch_normalization_44 (Bat  (None, 27, 27, 256)      1024      \n",
      " chNormalization)                                                \n",
      "                                                                 \n",
      " activation_44 (Activation)  (None, 27, 27, 256)       0         \n",
      "                                                                 \n",
      " max_pooling2d_17 (MaxPoolin  (None, 6, 6, 256)        0         \n",
      " g2D)                                                            \n",
      "                                                                 \n",
      " flatten_31 (Flatten)        (None, 9216)              0         \n",
      "                                                                 \n",
      " dense_16 (Dense)            (None, 256)               2359552   \n",
      "                                                                 \n",
      " dropout_8 (Dropout)         (None, 256)               0         \n",
      "                                                                 \n",
      " dense_17 (Dense)            (None, 256)               65792     \n",
      "                                                                 \n",
      " dropout_9 (Dropout)         (None, 256)               0         \n",
      "                                                                 \n",
      " dense_18 (Dense)            (None, 3)                 771       \n",
      "                                                                 \n",
      "=================================================================\n",
      "Total params: 6,178,819\n",
      "Trainable params: 6,176,067\n",
      "Non-trainable params: 2,752\n",
      "_________________________________________________________________\n"
     ]
    }
   ],
   "source": [
    "model_alex.summary()"
   ]
  },
  {
   "cell_type": "code",
   "execution_count": 57,
   "metadata": {},
   "outputs": [],
   "source": [
    "model_alex.compile(optimizer='sgd',\n",
    "              loss=tf.keras.losses.CategoricalCrossentropy(from_logits=False),\n",
    "              metrics=['accuracy'])"
   ]
  },
  {
   "cell_type": "code",
   "execution_count": null,
   "metadata": {},
   "outputs": [
    {
     "name": "stdout",
     "output_type": "stream",
     "text": [
      "Epoch 1/100\n",
      "401/401 [==============================] - 36s 70ms/step - loss: 1.3066 - accuracy: 0.6522 - val_loss: 0.6197 - val_accuracy: 0.7907\n",
      "Epoch 2/100\n",
      "401/401 [==============================] - 28s 70ms/step - loss: 0.6765 - accuracy: 0.7315 - val_loss: 0.5078 - val_accuracy: 0.8110\n",
      "Epoch 3/100\n",
      "401/401 [==============================] - 30s 74ms/step - loss: 0.5961 - accuracy: 0.7596 - val_loss: 0.4750 - val_accuracy: 0.8299\n",
      "Epoch 4/100\n",
      "401/401 [==============================] - 31s 75ms/step - loss: 0.5647 - accuracy: 0.7793 - val_loss: 0.4805 - val_accuracy: 0.8227\n",
      "Epoch 5/100\n",
      "401/401 [==============================] - 31s 76ms/step - loss: 0.5133 - accuracy: 0.7955 - val_loss: 0.7538 - val_accuracy: 0.7093\n",
      "Epoch 6/100\n",
      "401/401 [==============================] - 31s 77ms/step - loss: 0.4982 - accuracy: 0.8130 - val_loss: 0.4681 - val_accuracy: 0.8227\n",
      "Epoch 7/100\n",
      "401/401 [==============================] - 31s 77ms/step - loss: 0.4793 - accuracy: 0.8217 - val_loss: 0.4956 - val_accuracy: 0.8372\n",
      "Epoch 8/100\n",
      "401/401 [==============================] - 35s 85ms/step - loss: 0.4490 - accuracy: 0.8314 - val_loss: 0.7392 - val_accuracy: 0.7471\n",
      "Epoch 9/100\n",
      "401/401 [==============================] - 34s 83ms/step - loss: 0.4419 - accuracy: 0.8439 - val_loss: 0.4662 - val_accuracy: 0.8387\n",
      "Epoch 10/100\n",
      "401/401 [==============================] - 32s 79ms/step - loss: 0.4017 - accuracy: 0.8539 - val_loss: 0.9144 - val_accuracy: 0.6831\n",
      "Epoch 11/100\n",
      "401/401 [==============================] - 32s 79ms/step - loss: 0.3714 - accuracy: 0.8698 - val_loss: 0.4060 - val_accuracy: 0.8794\n",
      "Epoch 12/100\n",
      "401/401 [==============================] - 32s 78ms/step - loss: 0.3801 - accuracy: 0.8701 - val_loss: 0.5056 - val_accuracy: 0.8590\n",
      "Epoch 13/100\n",
      "401/401 [==============================] - 33s 81ms/step - loss: 0.3336 - accuracy: 0.8882 - val_loss: 0.3577 - val_accuracy: 0.8881\n",
      "Epoch 14/100\n",
      "401/401 [==============================] - 33s 80ms/step - loss: 0.3266 - accuracy: 0.8929 - val_loss: 0.7512 - val_accuracy: 0.7907\n",
      "Epoch 15/100\n",
      "401/401 [==============================] - 30s 74ms/step - loss: 0.3260 - accuracy: 0.8938 - val_loss: 0.3648 - val_accuracy: 0.8924\n",
      "Epoch 16/100\n",
      "401/401 [==============================] - 30s 74ms/step - loss: 0.2854 - accuracy: 0.9042 - val_loss: 0.6945 - val_accuracy: 0.8256\n",
      "Epoch 17/100\n",
      "401/401 [==============================] - 34s 84ms/step - loss: 0.2842 - accuracy: 0.9091 - val_loss: 1.6790 - val_accuracy: 0.4709\n",
      "Epoch 18/100\n",
      "401/401 [==============================] - 33s 82ms/step - loss: 0.2640 - accuracy: 0.9163 - val_loss: 0.2859 - val_accuracy: 0.9142\n",
      "Epoch 19/100\n",
      "401/401 [==============================] - 33s 81ms/step - loss: 0.2665 - accuracy: 0.9154 - val_loss: 0.2893 - val_accuracy: 0.9070\n",
      "Epoch 20/100\n",
      "401/401 [==============================] - 30s 73ms/step - loss: 0.2570 - accuracy: 0.9198 - val_loss: 0.3037 - val_accuracy: 0.9157\n",
      "Epoch 21/100\n",
      "401/401 [==============================] - 30s 74ms/step - loss: 0.2513 - accuracy: 0.9229 - val_loss: 0.2587 - val_accuracy: 0.9172\n",
      "Epoch 22/100\n",
      "401/401 [==============================] - 34s 84ms/step - loss: 0.2580 - accuracy: 0.9223 - val_loss: 0.2516 - val_accuracy: 0.9186\n",
      "Epoch 23/100\n",
      "401/401 [==============================] - 33s 80ms/step - loss: 0.2357 - accuracy: 0.9288 - val_loss: 1.2117 - val_accuracy: 0.7137\n",
      "Epoch 24/100\n",
      "401/401 [==============================] - 32s 78ms/step - loss: 0.2189 - accuracy: 0.9326 - val_loss: 0.3369 - val_accuracy: 0.9070\n",
      "Epoch 25/100\n",
      "401/401 [==============================] - 30s 73ms/step - loss: 0.2330 - accuracy: 0.9301 - val_loss: 0.3610 - val_accuracy: 0.8939\n",
      "Epoch 26/100\n",
      "401/401 [==============================] - 30s 73ms/step - loss: 0.2206 - accuracy: 0.9354 - val_loss: 0.2623 - val_accuracy: 0.9157\n",
      "Epoch 27/100\n",
      "401/401 [==============================] - 31s 77ms/step - loss: 0.1956 - accuracy: 0.9416 - val_loss: 0.3102 - val_accuracy: 0.9012\n",
      "Epoch 28/100\n",
      "401/401 [==============================] - 34s 83ms/step - loss: 0.2188 - accuracy: 0.9363 - val_loss: 1.3350 - val_accuracy: 0.7558\n",
      "Epoch 29/100\n",
      "401/401 [==============================] - 33s 80ms/step - loss: 0.2143 - accuracy: 0.9360 - val_loss: 0.2543 - val_accuracy: 0.9186\n",
      "Epoch 30/100\n",
      "401/401 [==============================] - 30s 75ms/step - loss: 0.2033 - accuracy: 0.9372 - val_loss: 1.1768 - val_accuracy: 0.7544\n",
      "Epoch 31/100\n",
      "401/401 [==============================] - 29s 71ms/step - loss: 0.1983 - accuracy: 0.9407 - val_loss: 0.3369 - val_accuracy: 0.9113\n",
      "Epoch 32/100\n",
      "401/401 [==============================] - 32s 79ms/step - loss: 0.1920 - accuracy: 0.9419 - val_loss: 0.7711 - val_accuracy: 0.8328\n",
      "Epoch 33/100\n",
      "401/401 [==============================] - 33s 81ms/step - loss: 0.2004 - accuracy: 0.9394 - val_loss: 0.2496 - val_accuracy: 0.9244\n",
      "Epoch 34/100\n",
      "401/401 [==============================] - 32s 78ms/step - loss: 0.1960 - accuracy: 0.9391 - val_loss: 0.2286 - val_accuracy: 0.9273\n",
      "Epoch 35/100\n",
      "401/401 [==============================] - 30s 74ms/step - loss: 0.1605 - accuracy: 0.9538 - val_loss: 0.2349 - val_accuracy: 0.9259\n",
      "Epoch 36/100\n",
      "401/401 [==============================] - 30s 75ms/step - loss: 0.2065 - accuracy: 0.9388 - val_loss: 0.2371 - val_accuracy: 0.9302\n",
      "Epoch 37/100\n",
      "401/401 [==============================] - 34s 83ms/step - loss: 0.1902 - accuracy: 0.9447 - val_loss: 0.2295 - val_accuracy: 0.9331\n",
      "Epoch 38/100\n",
      "401/401 [==============================] - 34s 82ms/step - loss: 0.1677 - accuracy: 0.9504 - val_loss: 0.2899 - val_accuracy: 0.9215\n",
      "Epoch 39/100\n",
      "401/401 [==============================] - 30s 72ms/step - loss: 0.1606 - accuracy: 0.9516 - val_loss: 0.2530 - val_accuracy: 0.9273\n",
      "Epoch 40/100\n",
      "401/401 [==============================] - 33s 81ms/step - loss: 0.1542 - accuracy: 0.9538 - val_loss: 0.2157 - val_accuracy: 0.9360\n",
      "Epoch 41/100\n",
      "401/401 [==============================] - 36s 88ms/step - loss: 0.1927 - accuracy: 0.9457 - val_loss: 0.2359 - val_accuracy: 0.9317\n",
      "Epoch 42/100\n",
      "401/401 [==============================] - 37s 91ms/step - loss: 0.1740 - accuracy: 0.9494 - val_loss: 0.2164 - val_accuracy: 0.9346\n",
      "Epoch 43/100\n",
      "401/401 [==============================] - 36s 87ms/step - loss: 0.1607 - accuracy: 0.9535 - val_loss: 0.3030 - val_accuracy: 0.9099\n",
      "Epoch 44/100\n",
      "401/401 [==============================] - 35s 85ms/step - loss: 0.1528 - accuracy: 0.9550 - val_loss: 0.2284 - val_accuracy: 0.9302\n",
      "Epoch 45/100\n",
      "401/401 [==============================] - 29s 72ms/step - loss: 0.1605 - accuracy: 0.9522 - val_loss: 0.5605 - val_accuracy: 0.8823\n",
      "Epoch 46/100\n",
      "401/401 [==============================] - 32s 80ms/step - loss: 0.1580 - accuracy: 0.9541 - val_loss: 0.4708 - val_accuracy: 0.8823\n",
      "Epoch 47/100\n",
      "401/401 [==============================] - 34s 84ms/step - loss: 0.1706 - accuracy: 0.9491 - val_loss: 0.2005 - val_accuracy: 0.9317\n",
      "Epoch 48/100\n",
      "401/401 [==============================] - 35s 85ms/step - loss: 0.1525 - accuracy: 0.9544 - val_loss: 0.2977 - val_accuracy: 0.9186\n",
      "Epoch 49/100\n",
      "401/401 [==============================] - 34s 84ms/step - loss: 0.1519 - accuracy: 0.9544 - val_loss: 0.2241 - val_accuracy: 0.9346\n",
      "Epoch 50/100\n",
      "401/401 [==============================] - 32s 78ms/step - loss: 0.1605 - accuracy: 0.9519 - val_loss: 1.0361 - val_accuracy: 0.8038\n",
      "Epoch 51/100\n",
      "401/401 [==============================] - 34s 85ms/step - loss: 0.1490 - accuracy: 0.9575 - val_loss: 1.5952 - val_accuracy: 0.7515\n",
      "Epoch 52/100\n",
      "401/401 [==============================] - 34s 83ms/step - loss: 0.1690 - accuracy: 0.9491 - val_loss: 1.1558 - val_accuracy: 0.7834\n",
      "Epoch 53/100\n",
      "401/401 [==============================] - 33s 81ms/step - loss: 0.1547 - accuracy: 0.9563 - val_loss: 0.2352 - val_accuracy: 0.9375\n",
      "Epoch 54/100\n",
      "401/401 [==============================] - 33s 81ms/step - loss: 0.1593 - accuracy: 0.9541 - val_loss: 0.5654 - val_accuracy: 0.8779\n",
      "Epoch 55/100\n",
      "401/401 [==============================] - 30s 74ms/step - loss: 0.1496 - accuracy: 0.9560 - val_loss: 0.2374 - val_accuracy: 0.9346\n",
      "Epoch 56/100\n",
      "401/401 [==============================] - 30s 74ms/step - loss: 0.1515 - accuracy: 0.9554 - val_loss: 0.2367 - val_accuracy: 0.9331\n",
      "Epoch 57/100\n",
      "401/401 [==============================] - 34s 85ms/step - loss: 0.1454 - accuracy: 0.9554 - val_loss: 0.2310 - val_accuracy: 0.9346\n",
      "Epoch 58/100\n",
      "401/401 [==============================] - 33s 82ms/step - loss: 0.1468 - accuracy: 0.9547 - val_loss: 0.1875 - val_accuracy: 0.9375\n",
      "Epoch 59/100\n",
      "401/401 [==============================] - 33s 82ms/step - loss: 0.1590 - accuracy: 0.9550 - val_loss: 0.2158 - val_accuracy: 0.9302\n",
      "Epoch 60/100\n",
      "401/401 [==============================] - 31s 76ms/step - loss: 0.1488 - accuracy: 0.9560 - val_loss: 0.2056 - val_accuracy: 0.9360\n",
      "Epoch 61/100\n",
      "401/401 [==============================] - 30s 73ms/step - loss: 0.1455 - accuracy: 0.9585 - val_loss: 0.3048 - val_accuracy: 0.9186\n",
      "Epoch 62/100\n",
      "401/401 [==============================] - 34s 84ms/step - loss: 0.1374 - accuracy: 0.9572 - val_loss: 0.3246 - val_accuracy: 0.9157\n",
      "Epoch 63/100\n",
      "401/401 [==============================] - 33s 81ms/step - loss: 0.1354 - accuracy: 0.9588 - val_loss: 0.2311 - val_accuracy: 0.9390\n",
      "Epoch 64/100\n",
      "401/401 [==============================] - 33s 80ms/step - loss: 0.1366 - accuracy: 0.9594 - val_loss: 0.5771 - val_accuracy: 0.8808\n",
      "Epoch 65/100\n",
      "401/401 [==============================] - 30s 74ms/step - loss: 0.1294 - accuracy: 0.9622 - val_loss: 0.2084 - val_accuracy: 0.9375\n",
      "Epoch 66/100\n",
      "401/401 [==============================] - 30s 73ms/step - loss: 0.1430 - accuracy: 0.9572 - val_loss: 0.2374 - val_accuracy: 0.9288\n",
      "Epoch 67/100\n",
      "401/401 [==============================] - 33s 82ms/step - loss: 0.1290 - accuracy: 0.9619 - val_loss: 0.2473 - val_accuracy: 0.9302\n",
      "Epoch 68/100\n",
      "401/401 [==============================] - 33s 80ms/step - loss: 0.1341 - accuracy: 0.9588 - val_loss: 2.4529 - val_accuracy: 0.7326\n",
      "Epoch 69/100\n",
      "401/401 [==============================] - 33s 80ms/step - loss: 0.1575 - accuracy: 0.9557 - val_loss: 0.2865 - val_accuracy: 0.9172\n",
      "Epoch 70/100\n",
      "401/401 [==============================] - 31s 75ms/step - loss: 0.1342 - accuracy: 0.9594 - val_loss: 0.2177 - val_accuracy: 0.9390\n",
      "Epoch 71/100\n",
      "401/401 [==============================] - 29s 72ms/step - loss: 0.1303 - accuracy: 0.9597 - val_loss: 0.1905 - val_accuracy: 0.9375\n",
      "Epoch 72/100\n",
      "401/401 [==============================] - 34s 82ms/step - loss: 0.1297 - accuracy: 0.9600 - val_loss: 0.2469 - val_accuracy: 0.9302\n",
      "Epoch 73/100\n",
      "401/401 [==============================] - 34s 83ms/step - loss: 0.1312 - accuracy: 0.9619 - val_loss: 0.5382 - val_accuracy: 0.8968\n",
      "Epoch 74/100\n",
      "401/401 [==============================] - 35s 86ms/step - loss: 0.1281 - accuracy: 0.9610 - val_loss: 0.2831 - val_accuracy: 0.9201\n",
      "Epoch 75/100\n",
      "401/401 [==============================] - 32s 78ms/step - loss: 0.1284 - accuracy: 0.9607 - val_loss: 0.2059 - val_accuracy: 0.9375\n",
      "Epoch 76/100\n",
      "401/401 [==============================] - 32s 79ms/step - loss: 0.1225 - accuracy: 0.9632 - val_loss: 0.3329 - val_accuracy: 0.9230\n",
      "Epoch 77/100\n",
      "401/401 [==============================] - 35s 87ms/step - loss: 0.1368 - accuracy: 0.9603 - val_loss: 0.2277 - val_accuracy: 0.9317\n",
      "Epoch 78/100\n",
      "401/401 [==============================] - 33s 81ms/step - loss: 0.1404 - accuracy: 0.9572 - val_loss: 0.2262 - val_accuracy: 0.9360\n",
      "Epoch 79/100\n",
      "401/401 [==============================] - 34s 83ms/step - loss: 0.1150 - accuracy: 0.9663 - val_loss: 0.2399 - val_accuracy: 0.9302\n",
      "Epoch 80/100\n",
      "401/401 [==============================] - 32s 78ms/step - loss: 0.1321 - accuracy: 0.9607 - val_loss: 0.5046 - val_accuracy: 0.8895\n",
      "Epoch 81/100\n",
      "401/401 [==============================] - 31s 75ms/step - loss: 0.1223 - accuracy: 0.9638 - val_loss: 0.2451 - val_accuracy: 0.9375\n",
      "Epoch 82/100\n",
      "401/401 [==============================] - 36s 88ms/step - loss: 0.1118 - accuracy: 0.9666 - val_loss: 0.2562 - val_accuracy: 0.9360\n",
      "Epoch 83/100\n",
      "401/401 [==============================] - 34s 84ms/step - loss: 0.1225 - accuracy: 0.9647 - val_loss: 0.3315 - val_accuracy: 0.9215\n",
      "Epoch 84/100\n",
      "401/401 [==============================] - 33s 80ms/step - loss: 0.1241 - accuracy: 0.9635 - val_loss: 0.2555 - val_accuracy: 0.9259\n",
      "Epoch 85/100\n",
      "401/401 [==============================] - 31s 75ms/step - loss: 0.1152 - accuracy: 0.9666 - val_loss: 0.2724 - val_accuracy: 0.9346\n",
      "Epoch 86/100\n",
      "401/401 [==============================] - 33s 81ms/step - loss: 0.1263 - accuracy: 0.9650 - val_loss: 0.2444 - val_accuracy: 0.9390\n",
      "Epoch 87/100\n",
      "401/401 [==============================] - 34s 82ms/step - loss: 0.1283 - accuracy: 0.9607 - val_loss: 0.3035 - val_accuracy: 0.9215\n",
      "Epoch 88/100\n",
      "401/401 [==============================] - 34s 83ms/step - loss: 0.1242 - accuracy: 0.9660 - val_loss: 1.5199 - val_accuracy: 0.7907\n",
      "Epoch 89/100\n",
      "401/401 [==============================] - 30s 73ms/step - loss: 0.1202 - accuracy: 0.9647 - val_loss: 0.2752 - val_accuracy: 0.9302\n",
      "Epoch 90/100\n",
      "401/401 [==============================] - 30s 74ms/step - loss: 0.1220 - accuracy: 0.9638 - val_loss: 0.2524 - val_accuracy: 0.9390\n",
      "Epoch 91/100\n",
      "401/401 [==============================] - 35s 86ms/step - loss: 0.1167 - accuracy: 0.9657 - val_loss: 0.2075 - val_accuracy: 0.9448\n",
      "Epoch 92/100\n",
      "401/401 [==============================] - 37s 90ms/step - loss: 0.1142 - accuracy: 0.9678 - val_loss: 0.2142 - val_accuracy: 0.9419\n",
      "Epoch 93/100\n",
      "401/401 [==============================] - 30s 74ms/step - loss: 0.1077 - accuracy: 0.9703 - val_loss: 0.2362 - val_accuracy: 0.9404\n",
      "Epoch 94/100\n",
      "401/401 [==============================] - 31s 76ms/step - loss: 0.1177 - accuracy: 0.9641 - val_loss: 0.2546 - val_accuracy: 0.9390\n",
      "Epoch 95/100\n",
      "401/401 [==============================] - 33s 83ms/step - loss: 0.1085 - accuracy: 0.9688 - val_loss: 0.2419 - val_accuracy: 0.9433\n",
      "Epoch 96/100\n",
      "401/401 [==============================] - 33s 80ms/step - loss: 0.1294 - accuracy: 0.9647 - val_loss: 0.2535 - val_accuracy: 0.9375\n",
      "Epoch 97/100\n",
      "401/401 [==============================] - 35s 86ms/step - loss: 0.1225 - accuracy: 0.9660 - val_loss: 0.2363 - val_accuracy: 0.9390\n",
      "Epoch 98/100\n",
      "401/401 [==============================] - 29s 72ms/step - loss: 0.1131 - accuracy: 0.9672 - val_loss: 0.1919 - val_accuracy: 0.9433\n",
      "Epoch 99/100\n",
      "401/401 [==============================] - 30s 73ms/step - loss: 0.1146 - accuracy: 0.9669 - val_loss: 0.2459 - val_accuracy: 0.9346\n",
      "Epoch 100/100\n",
      "401/401 [==============================] - 32s 78ms/step - loss: 0.1122 - accuracy: 0.9697 - val_loss: 0.2627 - val_accuracy: 0.9317\n"
     ]
    }
   ],
   "source": [
    "history = model_alex.fit(train_dataset, epochs=80, validation_data=val_dataset)"
   ]
  },
  {
   "cell_type": "code",
   "execution_count": 49,
   "metadata": {},
   "outputs": [],
   "source": [
    "class ParametrisedCompatibility(tf.keras.layers.Layer):\n",
    "\n",
    "    def __init__(self, kernel_regularizer=None, **kwargs):\n",
    "        super(ParametrisedCompatibility, self).__init__(**kwargs)\n",
    "        self.regularizer = kernel_regularizer\n",
    "\n",
    "    def build(self, input_shape):\n",
    "        self.u = self.add_weight(name='u', shape=(input_shape[0][3], 1), initializer='uniform', regularizer=self.regularizer, trainable=True)\n",
    "        super(ParametrisedCompatibility, self).build(input_shape)\n",
    "\n",
    "    def call(self, x):  # add l and g. Dot the sum with u.\n",
    "        return K.dot(K.map_fn(lambda lam: (lam[0]+lam[1]),elems=(x),dtype='float32'), self.u)\n",
    "\n",
    "    def compute_output_shape(self, input_shape):\n",
    "        return (input_shape[0][0], input_shape[0][1], input_shape[0][2])"
   ]
  },
  {
   "cell_type": "markdown",
   "metadata": {},
   "source": [
    "AlexNet with attention"
   ]
  },
  {
   "cell_type": "code",
   "execution_count": 50,
   "metadata": {},
   "outputs": [],
   "source": [
    "inp = tf.keras.layers.Input(shape=(256,256,3))\n",
    "l_resize = tf.keras.layers.Resizing(height=224, width=224) (inp)\n",
    "l_rescale = tf.keras.layers.Rescaling(1./255) (l_resize)\n",
    "    # 1st conv\n",
    "x = tf.keras.layers.Conv2D(96, (11,11),strides=(4,4), input_shape=(224, 224, 3)) (l_rescale)\n",
    "x = tf.keras.layers.BatchNormalization() (x)\n",
    "x = tf.keras.layers.Activation('relu') (x)\n",
    "x = tf.keras.layers.MaxPooling2D(2, strides=(2,2)) (x)\n",
    "x = tf.keras.layers.Conv2D(256, (5,5),strides=(1,1),padding=\"same\") (x)\n",
    "x = tf.keras.layers.BatchNormalization() (x)\n",
    "x = tf.keras.layers.Activation('relu') (x)\n",
    "'''First feature extraction for attention'''\n",
    "local_1 = layers.Dense(units=256, activation=None, name='conn_1') (x)\n",
    "     # 3rd conv\n",
    "x = tf.keras.layers.Conv2D(384, (3,3),strides=(1,1),padding=\"same\") (x)\n",
    "x = tf.keras.layers.BatchNormalization() (x)\n",
    "x = tf.keras.layers.Activation('relu') (x)\n",
    "\n",
    "\n",
    "    # 4th conv\n",
    "x = tf.keras.layers.Conv2D(384, (3,3),strides=(1,1),padding=\"same\") (x)\n",
    "x = tf.keras.layers.BatchNormalization() (x)\n",
    "x = tf.keras.layers.Activation('relu') (x)\n",
    "'''Second feature extraction for attention'''\n",
    "local_2 = layers.Dense(units=256, activation=None, name='conn_2') (x)\n",
    "\n",
    "    # 5th Conv\n",
    "x = tf.keras.layers.Conv2D(256, (3, 3), strides=(1, 1),padding=\"same\") (x)\n",
    "x = tf.keras.layers.BatchNormalization() (x)\n",
    "x = tf.keras.layers.Activation('relu') (x)\n",
    "x = tf.keras.layers.MaxPooling2D(2, strides=(5, 5)) (x)\n",
    "'''Third feature extraction for attention'''\n",
    "local_3 = layers.Dense(units=256, activation=None, name='conn_3') (x)\n",
    "\n",
    "  # To Flatten layer\n",
    "x = tf.keras.layers.Flatten() (x)\n",
    "  # To FC layer 1\n",
    "x = tf.keras.layers.Dense(256, activation='relu') (x)\n",
    "g = tf.keras.layers.Dropout(0.5) (x)\n",
    "\n",
    "''' Calculate compatibility scores '''\n",
    "c_1 = layers.Lambda(lambda lam: K.squeeze(K.map_fn(fn=lambda xy: K.dot(xy[0], xy[1]), elems=(lam[0], K.expand_dims(lam[1], -1)), dtype=tf.float32), 3), name='cdp1')([local_1, g])\n",
    "flat_1 = layers.Flatten() (c_1)\n",
    "act_1 = layers.Softmax() (flat_1)\n",
    "c_2 = layers.Lambda(lambda lam: K.squeeze(K.map_fn(fn=lambda xy: K.dot(xy[0], xy[1]), elems=(lam[0], K.expand_dims(lam[1], -1)), dtype=tf.float32), 3), name='cdp2')([local_2, g])\n",
    "flat_2 = layers.Flatten() (c_2)\n",
    "act_2 = layers.Softmax() (flat_2)\n",
    "c_3 = layers.Lambda(lambda lam: K.squeeze(K.map_fn(fn=lambda xy: K.dot(xy[0], xy[1]), elems=(lam[0], K.expand_dims(lam[1], -1)), dtype=tf.float32), 3), name='cdp3')([local_3, g])\n",
    "flat_3 = layers.Flatten() (c_3)\n",
    "act_3 = layers.Softmax() (flat_3)\n",
    "\n",
    "''' Multiply the local outputs by the compatibility scores '''\n",
    "rs_1 = layers.Reshape((-1,256)) (local_1)\n",
    "g_a_1 = layers.Lambda(lambda lam: K.squeeze(K.batch_dot(K.expand_dims(lam[0], 1), lam[1]), 1), \n",
    "             name='ga1')([act_1,rs_1])\n",
    "\n",
    "rs_2 = layers.Reshape((-1,256)) (local_2)\n",
    "g_a_2 = layers.Lambda(lambda lam: K.squeeze(K.batch_dot(K.expand_dims(lam[0], 1), lam[1]), 1), \n",
    "             name='ga2')([act_2,rs_2])\n",
    "\n",
    "rs_3 = layers.Reshape((-1,256)) (local_3)\n",
    "g_a_3 = layers.Lambda(lambda lam: K.squeeze(K.batch_dot(K.expand_dims(lam[0], 1), lam[1]), 1), \n",
    "             name='ga3')([act_3,rs_3])\n",
    "\n",
    "l_concat = layers.Concatenate() ([g_a_1,g_a_2, g_a_3]) #\"\"\" # concatenate the three attention outputs\"\"\"\n",
    "\n",
    "out = tf.keras.layers.Dense(units=3, activation='softmax') (l_concat)"
   ]
  },
  {
   "cell_type": "code",
   "execution_count": 51,
   "metadata": {},
   "outputs": [
    {
     "name": "stdout",
     "output_type": "stream",
     "text": [
      "Model: \"model_8\"\n",
      "__________________________________________________________________________________________________\n",
      " Layer (type)                   Output Shape         Param #     Connected to                     \n",
      "==================================================================================================\n",
      " input_8 (InputLayer)           [(None, 256, 256, 3  0           []                               \n",
      "                                )]                                                                \n",
      "                                                                                                  \n",
      " resizing_7 (Resizing)          (None, 224, 224, 3)  0           ['input_8[0][0]']                \n",
      "                                                                                                  \n",
      " rescaling_7 (Rescaling)        (None, 224, 224, 3)  0           ['resizing_7[0][0]']             \n",
      "                                                                                                  \n",
      " conv2d_35 (Conv2D)             (None, 54, 54, 96)   34944       ['rescaling_7[0][0]']            \n",
      "                                                                                                  \n",
      " batch_normalization_35 (BatchN  (None, 54, 54, 96)  384         ['conv2d_35[0][0]']              \n",
      " ormalization)                                                                                    \n",
      "                                                                                                  \n",
      " activation_35 (Activation)     (None, 54, 54, 96)   0           ['batch_normalization_35[0][0]'] \n",
      "                                                                                                  \n",
      " max_pooling2d_14 (MaxPooling2D  (None, 27, 27, 96)  0           ['activation_35[0][0]']          \n",
      " )                                                                                                \n",
      "                                                                                                  \n",
      " conv2d_36 (Conv2D)             (None, 27, 27, 256)  614656      ['max_pooling2d_14[0][0]']       \n",
      "                                                                                                  \n",
      " batch_normalization_36 (BatchN  (None, 27, 27, 256)  1024       ['conv2d_36[0][0]']              \n",
      " ormalization)                                                                                    \n",
      "                                                                                                  \n",
      " activation_36 (Activation)     (None, 27, 27, 256)  0           ['batch_normalization_36[0][0]'] \n",
      "                                                                                                  \n",
      " conv2d_37 (Conv2D)             (None, 27, 27, 384)  885120      ['activation_36[0][0]']          \n",
      "                                                                                                  \n",
      " batch_normalization_37 (BatchN  (None, 27, 27, 384)  1536       ['conv2d_37[0][0]']              \n",
      " ormalization)                                                                                    \n",
      "                                                                                                  \n",
      " activation_37 (Activation)     (None, 27, 27, 384)  0           ['batch_normalization_37[0][0]'] \n",
      "                                                                                                  \n",
      " conv2d_38 (Conv2D)             (None, 27, 27, 384)  1327488     ['activation_37[0][0]']          \n",
      "                                                                                                  \n",
      " batch_normalization_38 (BatchN  (None, 27, 27, 384)  1536       ['conv2d_38[0][0]']              \n",
      " ormalization)                                                                                    \n",
      "                                                                                                  \n",
      " activation_38 (Activation)     (None, 27, 27, 384)  0           ['batch_normalization_38[0][0]'] \n",
      "                                                                                                  \n",
      " conv2d_39 (Conv2D)             (None, 27, 27, 256)  884992      ['activation_38[0][0]']          \n",
      "                                                                                                  \n",
      " batch_normalization_39 (BatchN  (None, 27, 27, 256)  1024       ['conv2d_39[0][0]']              \n",
      " ormalization)                                                                                    \n",
      "                                                                                                  \n",
      " activation_39 (Activation)     (None, 27, 27, 256)  0           ['batch_normalization_39[0][0]'] \n",
      "                                                                                                  \n",
      " max_pooling2d_15 (MaxPooling2D  (None, 6, 6, 256)   0           ['activation_39[0][0]']          \n",
      " )                                                                                                \n",
      "                                                                                                  \n",
      " flatten_27 (Flatten)           (None, 9216)         0           ['max_pooling2d_15[0][0]']       \n",
      "                                                                                                  \n",
      " dense_14 (Dense)               (None, 4096)         37752832    ['flatten_27[0][0]']             \n",
      "                                                                                                  \n",
      " conn_1 (Dense)                 (None, 27, 27, 4096  1052672     ['activation_36[0][0]']          \n",
      "                                )                                                                 \n",
      "                                                                                                  \n",
      " dropout_7 (Dropout)            (None, 4096)         0           ['dense_14[0][0]']               \n",
      "                                                                                                  \n",
      " conn_2 (Dense)                 (None, 27, 27, 4096  1576960     ['activation_38[0][0]']          \n",
      "                                )                                                                 \n",
      "                                                                                                  \n",
      " conn_3 (Dense)                 (None, 6, 6, 4096)   1052672     ['max_pooling2d_15[0][0]']       \n",
      "                                                                                                  \n",
      " cdp1 (Lambda)                  (None, 27, 27)       0           ['conn_1[0][0]',                 \n",
      "                                                                  'dropout_7[0][0]']              \n",
      "                                                                                                  \n",
      " cdp2 (Lambda)                  (None, 27, 27)       0           ['conn_2[0][0]',                 \n",
      "                                                                  'dropout_7[0][0]']              \n",
      "                                                                                                  \n",
      " cdp3 (Lambda)                  (None, 6, 6)         0           ['conn_3[0][0]',                 \n",
      "                                                                  'dropout_7[0][0]']              \n",
      "                                                                                                  \n",
      " flatten_28 (Flatten)           (None, 729)          0           ['cdp1[0][0]']                   \n",
      "                                                                                                  \n",
      " flatten_29 (Flatten)           (None, 729)          0           ['cdp2[0][0]']                   \n",
      "                                                                                                  \n",
      " flatten_30 (Flatten)           (None, 36)           0           ['cdp3[0][0]']                   \n",
      "                                                                                                  \n",
      " softmax_20 (Softmax)           (None, 729)          0           ['flatten_28[0][0]']             \n",
      "                                                                                                  \n",
      " reshape_17 (Reshape)           (None, 729, 4096)    0           ['conn_1[0][0]']                 \n",
      "                                                                                                  \n",
      " softmax_21 (Softmax)           (None, 729)          0           ['flatten_29[0][0]']             \n",
      "                                                                                                  \n",
      " reshape_18 (Reshape)           (None, 729, 4096)    0           ['conn_2[0][0]']                 \n",
      "                                                                                                  \n",
      " softmax_22 (Softmax)           (None, 36)           0           ['flatten_30[0][0]']             \n",
      "                                                                                                  \n",
      " reshape_19 (Reshape)           (None, 36, 4096)     0           ['conn_3[0][0]']                 \n",
      "                                                                                                  \n",
      " ga1 (Lambda)                   (None, 4096)         0           ['softmax_20[0][0]',             \n",
      "                                                                  'reshape_17[0][0]']             \n",
      "                                                                                                  \n",
      " ga2 (Lambda)                   (None, 4096)         0           ['softmax_21[0][0]',             \n",
      "                                                                  'reshape_18[0][0]']             \n",
      "                                                                                                  \n",
      " ga3 (Lambda)                   (None, 4096)         0           ['softmax_22[0][0]',             \n",
      "                                                                  'reshape_19[0][0]']             \n",
      "                                                                                                  \n",
      " concatenate_6 (Concatenate)    (None, 12288)        0           ['ga1[0][0]',                    \n",
      "                                                                  'ga2[0][0]',                    \n",
      "                                                                  'ga3[0][0]']                    \n",
      "                                                                                                  \n",
      " dense_15 (Dense)               (None, 3)            36867       ['concatenate_6[0][0]']          \n",
      "                                                                                                  \n",
      "==================================================================================================\n",
      "Total params: 45,224,707\n",
      "Trainable params: 45,221,955\n",
      "Non-trainable params: 2,752\n",
      "__________________________________________________________________________________________________\n"
     ]
    }
   ],
   "source": [
    "model_alex_att = models.Model(inputs=inp, outputs=out)\n",
    "model_alex_att.summary()"
   ]
  },
  {
   "cell_type": "code",
   "execution_count": 52,
   "metadata": {},
   "outputs": [],
   "source": [
    "model_alex_att.compile(optimizer=tf.keras.optimizers.SGD(learning_rate=1e-4),\n",
    "              loss=tf.keras.losses.CategoricalCrossentropy(from_logits=False),\n",
    "              metrics=['accuracy'])"
   ]
  },
  {
   "cell_type": "code",
   "execution_count": 53,
   "metadata": {},
   "outputs": [
    {
     "name": "stdout",
     "output_type": "stream",
     "text": [
      "Epoch 1/100\n",
      "236/401 [================>.............] - ETA: 28s - loss: 0.9745 - accuracy: 0.5318"
     ]
    },
    {
     "ename": "KeyboardInterrupt",
     "evalue": "",
     "output_type": "error",
     "traceback": [
      "\u001b[1;31m---------------------------------------------------------------------------\u001b[0m",
      "\u001b[1;31mKeyboardInterrupt\u001b[0m                         Traceback (most recent call last)",
      "\u001b[1;32m~\\AppData\\Local\\Temp/ipykernel_6816/819318549.py\u001b[0m in \u001b[0;36m<module>\u001b[1;34m\u001b[0m\n\u001b[1;32m----> 1\u001b[1;33m history = model_alex_att.fit(train_dataset, epochs=100,\n\u001b[0m\u001b[0;32m      2\u001b[0m               \u001b[0mcallbacks\u001b[0m \u001b[1;33m=\u001b[0m \u001b[0mtf\u001b[0m\u001b[1;33m.\u001b[0m\u001b[0mkeras\u001b[0m\u001b[1;33m.\u001b[0m\u001b[0mcallbacks\u001b[0m\u001b[1;33m.\u001b[0m\u001b[0mEarlyStopping\u001b[0m\u001b[1;33m(\u001b[0m\u001b[0mpatience\u001b[0m\u001b[1;33m=\u001b[0m\u001b[1;36m6\u001b[0m\u001b[1;33m)\u001b[0m\u001b[1;33m,\u001b[0m\u001b[1;33m\u001b[0m\u001b[1;33m\u001b[0m\u001b[0m\n\u001b[0;32m      3\u001b[0m               validation_data=val_dataset)\n",
      "\u001b[1;32m~\\AppData\\Local\\Programs\\Python\\Python39\\lib\\site-packages\\keras\\utils\\traceback_utils.py\u001b[0m in \u001b[0;36merror_handler\u001b[1;34m(*args, **kwargs)\u001b[0m\n\u001b[0;32m     62\u001b[0m     \u001b[0mfiltered_tb\u001b[0m \u001b[1;33m=\u001b[0m \u001b[1;32mNone\u001b[0m\u001b[1;33m\u001b[0m\u001b[1;33m\u001b[0m\u001b[0m\n\u001b[0;32m     63\u001b[0m     \u001b[1;32mtry\u001b[0m\u001b[1;33m:\u001b[0m\u001b[1;33m\u001b[0m\u001b[1;33m\u001b[0m\u001b[0m\n\u001b[1;32m---> 64\u001b[1;33m       \u001b[1;32mreturn\u001b[0m \u001b[0mfn\u001b[0m\u001b[1;33m(\u001b[0m\u001b[1;33m*\u001b[0m\u001b[0margs\u001b[0m\u001b[1;33m,\u001b[0m \u001b[1;33m**\u001b[0m\u001b[0mkwargs\u001b[0m\u001b[1;33m)\u001b[0m\u001b[1;33m\u001b[0m\u001b[1;33m\u001b[0m\u001b[0m\n\u001b[0m\u001b[0;32m     65\u001b[0m     \u001b[1;32mexcept\u001b[0m \u001b[0mException\u001b[0m \u001b[1;32mas\u001b[0m \u001b[0me\u001b[0m\u001b[1;33m:\u001b[0m  \u001b[1;31m# pylint: disable=broad-except\u001b[0m\u001b[1;33m\u001b[0m\u001b[1;33m\u001b[0m\u001b[0m\n\u001b[0;32m     66\u001b[0m       \u001b[0mfiltered_tb\u001b[0m \u001b[1;33m=\u001b[0m \u001b[0m_process_traceback_frames\u001b[0m\u001b[1;33m(\u001b[0m\u001b[0me\u001b[0m\u001b[1;33m.\u001b[0m\u001b[0m__traceback__\u001b[0m\u001b[1;33m)\u001b[0m\u001b[1;33m\u001b[0m\u001b[1;33m\u001b[0m\u001b[0m\n",
      "\u001b[1;32m~\\AppData\\Local\\Programs\\Python\\Python39\\lib\\site-packages\\keras\\engine\\training.py\u001b[0m in \u001b[0;36mfit\u001b[1;34m(self, x, y, batch_size, epochs, verbose, callbacks, validation_split, validation_data, shuffle, class_weight, sample_weight, initial_epoch, steps_per_epoch, validation_steps, validation_batch_size, validation_freq, max_queue_size, workers, use_multiprocessing)\u001b[0m\n\u001b[0;32m   1382\u001b[0m                 _r=1):\n\u001b[0;32m   1383\u001b[0m               \u001b[0mcallbacks\u001b[0m\u001b[1;33m.\u001b[0m\u001b[0mon_train_batch_begin\u001b[0m\u001b[1;33m(\u001b[0m\u001b[0mstep\u001b[0m\u001b[1;33m)\u001b[0m\u001b[1;33m\u001b[0m\u001b[1;33m\u001b[0m\u001b[0m\n\u001b[1;32m-> 1384\u001b[1;33m               \u001b[0mtmp_logs\u001b[0m \u001b[1;33m=\u001b[0m \u001b[0mself\u001b[0m\u001b[1;33m.\u001b[0m\u001b[0mtrain_function\u001b[0m\u001b[1;33m(\u001b[0m\u001b[0miterator\u001b[0m\u001b[1;33m)\u001b[0m\u001b[1;33m\u001b[0m\u001b[1;33m\u001b[0m\u001b[0m\n\u001b[0m\u001b[0;32m   1385\u001b[0m               \u001b[1;32mif\u001b[0m \u001b[0mdata_handler\u001b[0m\u001b[1;33m.\u001b[0m\u001b[0mshould_sync\u001b[0m\u001b[1;33m:\u001b[0m\u001b[1;33m\u001b[0m\u001b[1;33m\u001b[0m\u001b[0m\n\u001b[0;32m   1386\u001b[0m                 \u001b[0mcontext\u001b[0m\u001b[1;33m.\u001b[0m\u001b[0masync_wait\u001b[0m\u001b[1;33m(\u001b[0m\u001b[1;33m)\u001b[0m\u001b[1;33m\u001b[0m\u001b[1;33m\u001b[0m\u001b[0m\n",
      "\u001b[1;32m~\\AppData\\Local\\Programs\\Python\\Python39\\lib\\site-packages\\tensorflow\\python\\util\\traceback_utils.py\u001b[0m in \u001b[0;36merror_handler\u001b[1;34m(*args, **kwargs)\u001b[0m\n\u001b[0;32m    148\u001b[0m     \u001b[0mfiltered_tb\u001b[0m \u001b[1;33m=\u001b[0m \u001b[1;32mNone\u001b[0m\u001b[1;33m\u001b[0m\u001b[1;33m\u001b[0m\u001b[0m\n\u001b[0;32m    149\u001b[0m     \u001b[1;32mtry\u001b[0m\u001b[1;33m:\u001b[0m\u001b[1;33m\u001b[0m\u001b[1;33m\u001b[0m\u001b[0m\n\u001b[1;32m--> 150\u001b[1;33m       \u001b[1;32mreturn\u001b[0m \u001b[0mfn\u001b[0m\u001b[1;33m(\u001b[0m\u001b[1;33m*\u001b[0m\u001b[0margs\u001b[0m\u001b[1;33m,\u001b[0m \u001b[1;33m**\u001b[0m\u001b[0mkwargs\u001b[0m\u001b[1;33m)\u001b[0m\u001b[1;33m\u001b[0m\u001b[1;33m\u001b[0m\u001b[0m\n\u001b[0m\u001b[0;32m    151\u001b[0m     \u001b[1;32mexcept\u001b[0m \u001b[0mException\u001b[0m \u001b[1;32mas\u001b[0m \u001b[0me\u001b[0m\u001b[1;33m:\u001b[0m\u001b[1;33m\u001b[0m\u001b[1;33m\u001b[0m\u001b[0m\n\u001b[0;32m    152\u001b[0m       \u001b[0mfiltered_tb\u001b[0m \u001b[1;33m=\u001b[0m \u001b[0m_process_traceback_frames\u001b[0m\u001b[1;33m(\u001b[0m\u001b[0me\u001b[0m\u001b[1;33m.\u001b[0m\u001b[0m__traceback__\u001b[0m\u001b[1;33m)\u001b[0m\u001b[1;33m\u001b[0m\u001b[1;33m\u001b[0m\u001b[0m\n",
      "\u001b[1;32m~\\AppData\\Local\\Programs\\Python\\Python39\\lib\\site-packages\\tensorflow\\python\\eager\\def_function.py\u001b[0m in \u001b[0;36m__call__\u001b[1;34m(self, *args, **kwds)\u001b[0m\n\u001b[0;32m    913\u001b[0m \u001b[1;33m\u001b[0m\u001b[0m\n\u001b[0;32m    914\u001b[0m       \u001b[1;32mwith\u001b[0m \u001b[0mOptionalXlaContext\u001b[0m\u001b[1;33m(\u001b[0m\u001b[0mself\u001b[0m\u001b[1;33m.\u001b[0m\u001b[0m_jit_compile\u001b[0m\u001b[1;33m)\u001b[0m\u001b[1;33m:\u001b[0m\u001b[1;33m\u001b[0m\u001b[1;33m\u001b[0m\u001b[0m\n\u001b[1;32m--> 915\u001b[1;33m         \u001b[0mresult\u001b[0m \u001b[1;33m=\u001b[0m \u001b[0mself\u001b[0m\u001b[1;33m.\u001b[0m\u001b[0m_call\u001b[0m\u001b[1;33m(\u001b[0m\u001b[1;33m*\u001b[0m\u001b[0margs\u001b[0m\u001b[1;33m,\u001b[0m \u001b[1;33m**\u001b[0m\u001b[0mkwds\u001b[0m\u001b[1;33m)\u001b[0m\u001b[1;33m\u001b[0m\u001b[1;33m\u001b[0m\u001b[0m\n\u001b[0m\u001b[0;32m    916\u001b[0m \u001b[1;33m\u001b[0m\u001b[0m\n\u001b[0;32m    917\u001b[0m       \u001b[0mnew_tracing_count\u001b[0m \u001b[1;33m=\u001b[0m \u001b[0mself\u001b[0m\u001b[1;33m.\u001b[0m\u001b[0mexperimental_get_tracing_count\u001b[0m\u001b[1;33m(\u001b[0m\u001b[1;33m)\u001b[0m\u001b[1;33m\u001b[0m\u001b[1;33m\u001b[0m\u001b[0m\n",
      "\u001b[1;32m~\\AppData\\Local\\Programs\\Python\\Python39\\lib\\site-packages\\tensorflow\\python\\eager\\def_function.py\u001b[0m in \u001b[0;36m_call\u001b[1;34m(self, *args, **kwds)\u001b[0m\n\u001b[0;32m    945\u001b[0m       \u001b[1;31m# In this case we have created variables on the first call, so we run the\u001b[0m\u001b[1;33m\u001b[0m\u001b[1;33m\u001b[0m\u001b[1;33m\u001b[0m\u001b[0m\n\u001b[0;32m    946\u001b[0m       \u001b[1;31m# defunned version which is guaranteed to never create variables.\u001b[0m\u001b[1;33m\u001b[0m\u001b[1;33m\u001b[0m\u001b[1;33m\u001b[0m\u001b[0m\n\u001b[1;32m--> 947\u001b[1;33m       \u001b[1;32mreturn\u001b[0m \u001b[0mself\u001b[0m\u001b[1;33m.\u001b[0m\u001b[0m_stateless_fn\u001b[0m\u001b[1;33m(\u001b[0m\u001b[1;33m*\u001b[0m\u001b[0margs\u001b[0m\u001b[1;33m,\u001b[0m \u001b[1;33m**\u001b[0m\u001b[0mkwds\u001b[0m\u001b[1;33m)\u001b[0m  \u001b[1;31m# pylint: disable=not-callable\u001b[0m\u001b[1;33m\u001b[0m\u001b[1;33m\u001b[0m\u001b[0m\n\u001b[0m\u001b[0;32m    948\u001b[0m     \u001b[1;32melif\u001b[0m \u001b[0mself\u001b[0m\u001b[1;33m.\u001b[0m\u001b[0m_stateful_fn\u001b[0m \u001b[1;32mis\u001b[0m \u001b[1;32mnot\u001b[0m \u001b[1;32mNone\u001b[0m\u001b[1;33m:\u001b[0m\u001b[1;33m\u001b[0m\u001b[1;33m\u001b[0m\u001b[0m\n\u001b[0;32m    949\u001b[0m       \u001b[1;31m# Release the lock early so that multiple threads can perform the call\u001b[0m\u001b[1;33m\u001b[0m\u001b[1;33m\u001b[0m\u001b[1;33m\u001b[0m\u001b[0m\n",
      "\u001b[1;32m~\\AppData\\Local\\Programs\\Python\\Python39\\lib\\site-packages\\tensorflow\\python\\eager\\function.py\u001b[0m in \u001b[0;36m__call__\u001b[1;34m(self, *args, **kwargs)\u001b[0m\n\u001b[0;32m   2954\u001b[0m       (graph_function,\n\u001b[0;32m   2955\u001b[0m        filtered_flat_args) = self._maybe_define_function(args, kwargs)\n\u001b[1;32m-> 2956\u001b[1;33m     return graph_function._call_flat(\n\u001b[0m\u001b[0;32m   2957\u001b[0m         filtered_flat_args, captured_inputs=graph_function.captured_inputs)  # pylint: disable=protected-access\n\u001b[0;32m   2958\u001b[0m \u001b[1;33m\u001b[0m\u001b[0m\n",
      "\u001b[1;32m~\\AppData\\Local\\Programs\\Python\\Python39\\lib\\site-packages\\tensorflow\\python\\eager\\function.py\u001b[0m in \u001b[0;36m_call_flat\u001b[1;34m(self, args, captured_inputs, cancellation_manager)\u001b[0m\n\u001b[0;32m   1851\u001b[0m         and executing_eagerly):\n\u001b[0;32m   1852\u001b[0m       \u001b[1;31m# No tape is watching; skip to running the function.\u001b[0m\u001b[1;33m\u001b[0m\u001b[1;33m\u001b[0m\u001b[1;33m\u001b[0m\u001b[0m\n\u001b[1;32m-> 1853\u001b[1;33m       return self._build_call_outputs(self._inference_function.call(\n\u001b[0m\u001b[0;32m   1854\u001b[0m           ctx, args, cancellation_manager=cancellation_manager))\n\u001b[0;32m   1855\u001b[0m     forward_backward = self._select_forward_and_backward_functions(\n",
      "\u001b[1;32m~\\AppData\\Local\\Programs\\Python\\Python39\\lib\\site-packages\\tensorflow\\python\\eager\\function.py\u001b[0m in \u001b[0;36mcall\u001b[1;34m(self, ctx, args, cancellation_manager)\u001b[0m\n\u001b[0;32m    497\u001b[0m       \u001b[1;32mwith\u001b[0m \u001b[0m_InterpolateFunctionError\u001b[0m\u001b[1;33m(\u001b[0m\u001b[0mself\u001b[0m\u001b[1;33m)\u001b[0m\u001b[1;33m:\u001b[0m\u001b[1;33m\u001b[0m\u001b[1;33m\u001b[0m\u001b[0m\n\u001b[0;32m    498\u001b[0m         \u001b[1;32mif\u001b[0m \u001b[0mcancellation_manager\u001b[0m \u001b[1;32mis\u001b[0m \u001b[1;32mNone\u001b[0m\u001b[1;33m:\u001b[0m\u001b[1;33m\u001b[0m\u001b[1;33m\u001b[0m\u001b[0m\n\u001b[1;32m--> 499\u001b[1;33m           outputs = execute.execute(\n\u001b[0m\u001b[0;32m    500\u001b[0m               \u001b[0mstr\u001b[0m\u001b[1;33m(\u001b[0m\u001b[0mself\u001b[0m\u001b[1;33m.\u001b[0m\u001b[0msignature\u001b[0m\u001b[1;33m.\u001b[0m\u001b[0mname\u001b[0m\u001b[1;33m)\u001b[0m\u001b[1;33m,\u001b[0m\u001b[1;33m\u001b[0m\u001b[1;33m\u001b[0m\u001b[0m\n\u001b[0;32m    501\u001b[0m               \u001b[0mnum_outputs\u001b[0m\u001b[1;33m=\u001b[0m\u001b[0mself\u001b[0m\u001b[1;33m.\u001b[0m\u001b[0m_num_outputs\u001b[0m\u001b[1;33m,\u001b[0m\u001b[1;33m\u001b[0m\u001b[1;33m\u001b[0m\u001b[0m\n",
      "\u001b[1;32m~\\AppData\\Local\\Programs\\Python\\Python39\\lib\\site-packages\\tensorflow\\python\\eager\\execute.py\u001b[0m in \u001b[0;36mquick_execute\u001b[1;34m(op_name, num_outputs, inputs, attrs, ctx, name)\u001b[0m\n\u001b[0;32m     52\u001b[0m   \u001b[1;32mtry\u001b[0m\u001b[1;33m:\u001b[0m\u001b[1;33m\u001b[0m\u001b[1;33m\u001b[0m\u001b[0m\n\u001b[0;32m     53\u001b[0m     \u001b[0mctx\u001b[0m\u001b[1;33m.\u001b[0m\u001b[0mensure_initialized\u001b[0m\u001b[1;33m(\u001b[0m\u001b[1;33m)\u001b[0m\u001b[1;33m\u001b[0m\u001b[1;33m\u001b[0m\u001b[0m\n\u001b[1;32m---> 54\u001b[1;33m     tensors = pywrap_tfe.TFE_Py_Execute(ctx._handle, device_name, op_name,\n\u001b[0m\u001b[0;32m     55\u001b[0m                                         inputs, attrs, num_outputs)\n\u001b[0;32m     56\u001b[0m   \u001b[1;32mexcept\u001b[0m \u001b[0mcore\u001b[0m\u001b[1;33m.\u001b[0m\u001b[0m_NotOkStatusException\u001b[0m \u001b[1;32mas\u001b[0m \u001b[0me\u001b[0m\u001b[1;33m:\u001b[0m\u001b[1;33m\u001b[0m\u001b[1;33m\u001b[0m\u001b[0m\n",
      "\u001b[1;31mKeyboardInterrupt\u001b[0m: "
     ]
    }
   ],
   "source": [
    "history = model_alex_att.fit(train_dataset, epochs=100,\n",
    "              callbacks = tf.keras.callbacks.EarlyStopping(patience=6),\n",
    "              validation_data=val_dataset)"
   ]
  },
  {
   "cell_type": "code",
   "execution_count": 34,
   "metadata": {},
   "outputs": [
    {
     "name": "stdout",
     "output_type": "stream",
     "text": [
      "86/86 - 5s - loss: 0.3113 - accuracy: 0.9108 - 5s/epoch - 61ms/step\n"
     ]
    }
   ],
   "source": [
    "test_loss, test_acc = model_alex_att.evaluate(test_dataset, verbose=2)"
   ]
  },
  {
   "cell_type": "code",
   "execution_count": 35,
   "metadata": {},
   "outputs": [
    {
     "data": {
      "text/plain": [
       "<matplotlib.legend.Legend at 0x142daf8f220>"
      ]
     },
     "execution_count": 35,
     "metadata": {},
     "output_type": "execute_result"
    },
    {
     "data": {
      "image/png": "[encoded data removed]",
      "text/plain": [
       "<Figure size 432x288 with 1 Axes>"
      ]
     },
     "metadata": {},
     "output_type": "display_data"
    }
   ],
   "source": [
    "plt.plot(history.history['loss'], label='loss')\n",
    "plt.plot(history.history['val_loss'], label = 'val_loss')\n",
    "plt.plot(history.history['accuracy'], label='accuracy')\n",
    "plt.plot(history.history['val_accuracy'], label = 'val_accuracy')\n",
    "plt.xlabel('Epoch')\n",
    "plt.legend(loc='lower right')"
   ]
  },
  {
   "cell_type": "code",
   "execution_count": 36,
   "metadata": {},
   "outputs": [],
   "source": [
    "hist_df = pd.DataFrame(history.history)\n",
    "hist_csv_file = 'history_alex_att_l2_1.csv'\n",
    "with open(hist_csv_file, mode='w') as f:\n",
    "    hist_df.to_csv(f)"
   ]
  },
  {
   "cell_type": "code",
   "execution_count": 66,
   "metadata": {},
   "outputs": [
    {
     "name": "stdout",
     "output_type": "stream",
     "text": [
      "INFO:tensorflow:Assets written to: model_alex_att_l2_test\\assets\n"
     ]
    }
   ],
   "source": [
    "model_folder = 'model_alex_att_l2_test'\n",
    "model_alex_att.save(model_folder)"
   ]
  },
  {
   "cell_type": "code",
   "execution_count": 25,
   "metadata": {},
   "outputs": [
    {
     "name": "stdout",
     "output_type": "stream",
     "text": [
      "WARNING:tensorflow:AutoGraph could not transform <function <lambda>.<locals>.<lambda> at 0x0000013B58A3A1F0> and will run it as-is.\n",
      "Cause: could not parse the source code of <function <lambda>.<locals>.<lambda> at 0x0000013B58A3A1F0>: no matching AST found among candidates:\n",
      "\n",
      "To silence this warning, decorate the function with @tf.autograph.experimental.do_not_convert\n"
     ]
    }
   ],
   "source": [
    "model = tf.keras.models.load_model('model_alex_att_l2_test')"
   ]
  },
  {
   "cell_type": "code",
   "execution_count": 26,
   "metadata": {},
   "outputs": [
    {
     "name": "stdout",
     "output_type": "stream",
     "text": [
      "Model: \"model\"\n",
      "__________________________________________________________________________________________________\n",
      " Layer (type)                   Output Shape         Param #     Connected to                     \n",
      "==================================================================================================\n",
      " input_1 (InputLayer)           [(None, 256, 256, 3  0           []                               \n",
      "                                )]                                                                \n",
      "                                                                                                  \n",
      " resizing (Resizing)            (None, 224, 224, 3)  0           ['input_1[0][0]']                \n",
      "                                                                                                  \n",
      " rescaling (Rescaling)          (None, 224, 224, 3)  0           ['resizing[0][0]']               \n",
      "                                                                                                  \n",
      " conv2d (Conv2D)                (None, 54, 54, 96)   34944       ['rescaling[0][0]']              \n",
      "                                                                                                  \n",
      " batch_normalization (BatchNorm  (None, 54, 54, 96)  384         ['conv2d[0][0]']                 \n",
      " alization)                                                                                       \n",
      "                                                                                                  \n",
      " activation (Activation)        (None, 54, 54, 96)   0           ['batch_normalization[0][0]']    \n",
      "                                                                                                  \n",
      " max_pooling2d (MaxPooling2D)   (None, 27, 27, 96)   0           ['activation[0][0]']             \n",
      "                                                                                                  \n",
      " conv2d_1 (Conv2D)              (None, 27, 27, 256)  614656      ['max_pooling2d[0][0]']          \n",
      "                                                                                                  \n",
      " batch_normalization_1 (BatchNo  (None, 27, 27, 256)  1024       ['conv2d_1[0][0]']               \n",
      " rmalization)                                                                                     \n",
      "                                                                                                  \n",
      " activation_1 (Activation)      (None, 27, 27, 256)  0           ['batch_normalization_1[0][0]']  \n",
      "                                                                                                  \n",
      " conv2d_2 (Conv2D)              (None, 27, 27, 384)  885120      ['activation_1[0][0]']           \n",
      "                                                                                                  \n",
      " batch_normalization_2 (BatchNo  (None, 27, 27, 384)  1536       ['conv2d_2[0][0]']               \n",
      " rmalization)                                                                                     \n",
      "                                                                                                  \n",
      " activation_2 (Activation)      (None, 27, 27, 384)  0           ['batch_normalization_2[0][0]']  \n",
      "                                                                                                  \n",
      " conv2d_3 (Conv2D)              (None, 27, 27, 384)  1327488     ['activation_2[0][0]']           \n",
      "                                                                                                  \n",
      " batch_normalization_3 (BatchNo  (None, 27, 27, 384)  1536       ['conv2d_3[0][0]']               \n",
      " rmalization)                                                                                     \n",
      "                                                                                                  \n",
      " activation_3 (Activation)      (None, 27, 27, 384)  0           ['batch_normalization_3[0][0]']  \n",
      "                                                                                                  \n",
      " conv2d_4 (Conv2D)              (None, 27, 27, 256)  884992      ['activation_3[0][0]']           \n",
      "                                                                                                  \n",
      " batch_normalization_4 (BatchNo  (None, 27, 27, 256)  1024       ['conv2d_4[0][0]']               \n",
      " rmalization)                                                                                     \n",
      "                                                                                                  \n",
      " activation_4 (Activation)      (None, 27, 27, 256)  0           ['batch_normalization_4[0][0]']  \n",
      "                                                                                                  \n",
      " max_pooling2d_1 (MaxPooling2D)  (None, 6, 6, 256)   0           ['activation_4[0][0]']           \n",
      "                                                                                                  \n",
      " flatten (Flatten)              (None, 9216)         0           ['max_pooling2d_1[0][0]']        \n",
      "                                                                                                  \n",
      " dense (Dense)                  (None, 256)          2359552     ['flatten[0][0]']                \n",
      "                                                                                                  \n",
      " conn_2 (Dense)                 (None, 27, 27, 256)  98560       ['activation_2[0][0]']           \n",
      "                                                                                                  \n",
      " dropout (Dropout)              (None, 256)          0           ['dense[0][0]']                  \n",
      "                                                                                                  \n",
      " cdp2 (Lambda)                  (None, 27, 27)       0           ['conn_2[0][0]',                 \n",
      "                                                                  'dropout[0][0]']                \n",
      "                                                                                                  \n",
      " flatten_1 (Flatten)            (None, 729)          0           ['cdp2[0][0]']                   \n",
      "                                                                                                  \n",
      " softmax (Softmax)              (None, 729)          0           ['flatten_1[0][0]']              \n",
      "                                                                                                  \n",
      " reshape (Reshape)              (None, 729, 256)     0           ['conn_2[0][0]']                 \n",
      "                                                                                                  \n",
      " ga2 (Lambda)                   (None, 256)          0           ['softmax[0][0]',                \n",
      "                                                                  'reshape[0][0]']                \n",
      "                                                                                                  \n",
      " dense_1 (Dense)                (None, 3)            771         ['ga2[0][0]']                    \n",
      "                                                                                                  \n",
      "==================================================================================================\n",
      "Total params: 6,211,587\n",
      "Trainable params: 6,208,835\n",
      "Non-trainable params: 2,752\n",
      "__________________________________________________________________________________________________\n"
     ]
    }
   ],
   "source": [
    "model.summary()"
   ]
  },
  {
   "cell_type": "markdown",
   "metadata": {},
   "source": [
    "Performance evaluation"
   ]
  },
  {
   "cell_type": "code",
   "execution_count": 27,
   "metadata": {},
   "outputs": [],
   "source": [
    "model = model_alex_att"
   ]
  },
  {
   "cell_type": "code",
   "execution_count": 28,
   "metadata": {},
   "outputs": [
    {
     "name": "stdout",
     "output_type": "stream",
     "text": [
      "WARNING:tensorflow:AutoGraph could not transform <function <lambda>.<locals>.<lambda> at 0x0000013B61F43DC0> and will run it as-is.\n",
      "Cause: could not parse the source code of <function <lambda>.<locals>.<lambda> at 0x0000013B61F43DC0>: no matching AST found among candidates:\n",
      "\n",
      "To silence this warning, decorate the function with @tf.autograph.experimental.do_not_convert\n",
      "86/86 [==============================] - 32s 75ms/step - loss: 0.3158 - accuracy: 0.9108\n"
     ]
    },
    {
     "data": {
      "text/plain": [
       "[0.3158091604709625, 0.9108186960220337]"
      ]
     },
     "execution_count": 28,
     "metadata": {},
     "output_type": "execute_result"
    }
   ],
   "source": [
    "model.evaluate(test_dataset)"
   ]
  },
  {
   "cell_type": "code",
   "execution_count": 29,
   "metadata": {},
   "outputs": [],
   "source": [
    "labels = []\n",
    "images = []\n",
    "for image, label in test_dataset.unbatch():\n",
    "    images.append(image)\n",
    "    labels.append(label)"
   ]
  },
  {
   "cell_type": "code",
   "execution_count": 30,
   "metadata": {},
   "outputs": [
    {
     "data": {
      "text/plain": [
       "(684, 256, 256, 3)"
      ]
     },
     "execution_count": 30,
     "metadata": {},
     "output_type": "execute_result"
    }
   ],
   "source": [
    "images = np.array(images)\n",
    "images.shape"
   ]
  },
  {
   "cell_type": "code",
   "execution_count": 31,
   "metadata": {},
   "outputs": [
    {
     "data": {
      "text/plain": [
       "(684, 3)"
      ]
     },
     "execution_count": 31,
     "metadata": {},
     "output_type": "execute_result"
    }
   ],
   "source": [
    "labels = np.array(labels)\n",
    "labels.shape"
   ]
  },
  {
   "cell_type": "code",
   "execution_count": 32,
   "metadata": {},
   "outputs": [
    {
     "name": "stdout",
     "output_type": "stream",
     "text": [
      "WARNING:tensorflow:AutoGraph could not transform <function <lambda>.<locals>.<lambda> at 0x0000013B63BFE670> and will run it as-is.\n",
      "Cause: could not parse the source code of <function <lambda>.<locals>.<lambda> at 0x0000013B63BFE670>: no matching AST found among candidates:\n",
      "\n",
      "To silence this warning, decorate the function with @tf.autograph.experimental.do_not_convert\n"
     ]
    }
   ],
   "source": [
    "y_pred = model.predict(images)"
   ]
  },
  {
   "cell_type": "code",
   "execution_count": 33,
   "metadata": {},
   "outputs": [],
   "source": [
    "labels = np.argmax(labels,axis=-1)\n",
    "predictions=np.argmax(y_pred,axis=-1)\n"
   ]
  },
  {
   "cell_type": "code",
   "execution_count": 34,
   "metadata": {},
   "outputs": [
    {
     "data": {
      "text/plain": [
       "625"
      ]
     },
     "execution_count": 34,
     "metadata": {},
     "output_type": "execute_result"
    }
   ],
   "source": [
    "np.sum(labels==predictions)"
   ]
  },
  {
   "cell_type": "code",
   "execution_count": 35,
   "metadata": {},
   "outputs": [],
   "source": [
    "def conf_matrix(model, X_test, y_test):\n",
    "  \n",
    "  # Predict\n",
    "    y_pred = model.predict(X_test, batch_size=32, verbose=1)\n",
    "    y_pred_bool = np.argmax(y_pred, axis=1)\n",
    "    y_test_bool = y_test #, axis=1)\n",
    "    \n",
    "  # Confusion matrix\n",
    "    \n",
    "    labels = ('normal', 'covid', 'pneumonia')\n",
    "    df_confusion = confusion_matrix(y_true = y_test_bool, y_pred = y_pred_bool)\n",
    "    precision = np.round(df_confusion/df_confusion.sum(axis = 0), 2)\n",
    "    recall = np.round((df_confusion.T/df_confusion.sum(axis = 1)).T, 2)\n",
    "    \n",
    "    matplotlib.rcParams.update({'font.size': 15})\n",
    "    fig, ax = plt.subplots(1, 2, figsize=(12, 5), frameon = False)\n",
    "    sn.heatmap(recall, cmap='YlGnBu', vmin=0.0, vmax=1.0, # cmap = 'BuPu'\n",
    "                annot=True, ax=ax[0])\n",
    "    sn.heatmap(precision, cmap='YlGnBu', vmin=0.0, vmax=1.0,\n",
    "                annot=True, ax=ax[1])\n",
    "    fig.suptitle('AlexNet with attention')\n",
    "    ax[0].set_title('Recall', fontsize = 14)\n",
    "    ax[1].set_title('Precision', fontsize = 14)\n",
    "    ax[0].set_yticklabels(labels, va=\"center\")\n",
    "    ax[1].set_yticklabels(labels, va=\"center\")\n",
    "    ax[0].set_xticklabels(labels, va=\"center\")\n",
    "    ax[1].set_xticklabels(labels, va=\"center\")\n",
    "    \n",
    "    ax[0].set_ylabel(\"True value\", fontsize = 12)\n",
    "    ax[0].set_xlabel(\"Predicted value\", fontsize = 12)\n",
    "    ax[1].set_ylabel(\"True value\", fontsize = 12)\n",
    "    ax[1].set_xlabel(\"Predicted value\", fontsize = 12)\n",
    "\n",
    "    plt.show()"
   ]
  },
  {
   "cell_type": "code",
   "execution_count": 36,
   "metadata": {},
   "outputs": [
    {
     "name": "stdout",
     "output_type": "stream",
     "text": [
      "22/22 [==============================] - 3s 119ms/step\n"
     ]
    },
    {
     "data": {
      "image/png": "[encoded data removed]",
      "text/plain": [
       "<Figure size 864x360 with 4 Axes>"
      ]
     },
     "metadata": {
      "needs_background": "light"
     },
     "output_type": "display_data"
    }
   ],
   "source": [
    "conf_m = conf_matrix(model=model, X_test=images, y_test=labels)"
   ]
  },
  {
   "cell_type": "code",
   "execution_count": 37,
   "metadata": {},
   "outputs": [
    {
     "data": {
      "text/plain": [
       "array([0.81294964])"
      ]
     },
     "execution_count": 37,
     "metadata": {},
     "output_type": "execute_result"
    }
   ],
   "source": [
    "precision_score(y_true=labels, y_pred=predictions, labels=[1],average=None)"
   ]
  },
  {
   "cell_type": "code",
   "execution_count": 38,
   "metadata": {},
   "outputs": [
    {
     "data": {
      "text/plain": [
       "array([0.98689956])"
      ]
     },
     "execution_count": 38,
     "metadata": {},
     "output_type": "execute_result"
    }
   ],
   "source": [
    "recall_score(y_true=labels, y_pred=predictions, labels=[1],average=None)"
   ]
  },
  {
   "cell_type": "code",
   "execution_count": 77,
   "metadata": {},
   "outputs": [],
   "source": [
    "def get_img_array(img_path, size):\n",
    "    # `img` is a PIL image of size 299x299\n",
    "    img = tf.keras.preprocessing.image.load_img(img_path, target_size=size)\n",
    "    # `array` is a float32 Numpy array of shape (299, 299, 3)\n",
    "    array = tf.keras.preprocessing.image.img_to_array(img)\n",
    "    # We add a dimension to transform our array into a \"batch\"\n",
    "    # of size (1, 299, 299, 3)\n",
    "    array = np.expand_dims(array, axis=0)\n",
    "    return array\n",
    "\n",
    "\n",
    "def make_gradcam_heatmap(img_array, model, last_conv_layer_name, pred_index=None):\n",
    "    # First, we create a model that maps the input image to the activations\n",
    "    # of the last conv layer as well as the output predictions\n",
    "    grad_model = tf.keras.models.Model(\n",
    "        [model.inputs], [model.get_layer(last_conv_layer_name).output, model.output]\n",
    "    )\n",
    "\n",
    "    # Then, we compute the gradient of the top predicted class for our input image\n",
    "    # with respect to the activations of the last conv layer\n",
    "    with tf.GradientTape() as tape:\n",
    "        last_conv_layer_output, preds = grad_model(img_array)\n",
    "        if pred_index is None:\n",
    "            pred_index = tf.argmax(preds[0])\n",
    "        class_channel = preds[:, pred_index]\n",
    "\n",
    "    # This is the gradient of the output neuron (top predicted or chosen)\n",
    "    # with regard to the output feature map of the last conv layer\n",
    "    grads = tape.gradient(class_channel, last_conv_layer_output)\n",
    "\n",
    "    # This is a vector where each entry is the mean intensity of the gradient\n",
    "    # over a specific feature map channel\n",
    "    pooled_grads = tf.reduce_mean(grads, axis=(0, 1, 2))\n",
    "\n",
    "    # We multiply each channel in the feature map array\n",
    "    # by \"how important this channel is\" with regard to the top predicted class\n",
    "    # then sum all the channels to obtain the heatmap class activation\n",
    "    last_conv_layer_output = last_conv_layer_output[0]\n",
    "    heatmap = last_conv_layer_output @ pooled_grads[..., tf.newaxis]\n",
    "    heatmap = tf.squeeze(heatmap)\n",
    "\n",
    "    # For visualization purpose, we will also normalize the heatmap between 0 & 1\n",
    "    heatmap = tf.maximum(heatmap, 0) / tf.math.reduce_max(heatmap)\n",
    "    return heatmap.numpy()\n",
    "\n",
    "model_builder = tf.keras.applications.xception.Xception\n",
    "preprocess_input = tf.keras.applications.xception.preprocess_input\n",
    "decode_predictions = tf.keras.applications.xception.decode_predictions\n",
    "\n",
    "#print([layer.name for layer in model.layers])\n",
    "def predict_display(img_path):\n",
    "    #print(model.layers[-1].activation) #\n",
    "    #model.layers[-1].activation = None\n",
    "   \n",
    "    #print(img_path)\n",
    "    img_array = preprocess_input(get_img_array(img_path, size=(256,256)))\n",
    "    # preds = model.predict(img_array)\n",
    "    # #print(preds)\n",
    "    # print(preds[0], img_path)\n",
    "    # if np.argmax(preds[0]) > 0:\n",
    "    #     print(np.argmax(preds[0]))\n",
    "    heatmap = make_gradcam_heatmap(img_array, model, 'conv2d',pred_index=1)\n",
    "    \n",
    "    # Display heatmap\n",
    "    plt.matshow(heatmap)\n",
    "    plt.show()\n"
   ]
  },
  {
   "cell_type": "code",
   "execution_count": 78,
   "metadata": {},
   "outputs": [
    {
     "data": {
      "image/png": "[encoded data removed]",
      "text/plain": [
       "<Figure size 288x288 with 1 Axes>"
      ]
     },
     "metadata": {
      "needs_background": "light"
     },
     "output_type": "display_data"
    }
   ],
   "source": [
    "impath = 'cov_data\\\\covid\\\\COVID19(569).jpg'\n",
    "predict_display(impath)"
   ]
  }
 ],
 "metadata": {
  "interpreter": {
   "hash": "edb785b520f3628718c6f63b0193778fc09e531943076d4d93ac8ed296d34b79"
  },
  "kernelspec": {
   "display_name": "Python 3.9.6 64-bit",
   "language": "python",
   "name": "python3"
  },
  "language_info": {
   "codemirror_mode": {
    "name": "ipython",
    "version": 3
   },
   "file_extension": ".py",
   "mimetype": "text/x-python",
   "name": "python",
   "nbconvert_exporter": "python",
   "pygments_lexer": "ipython3",
   "version": "3.9.6"
  },
  "orig_nbformat": 4
 },
 "nbformat": 4,
 "nbformat_minor": 2
}
